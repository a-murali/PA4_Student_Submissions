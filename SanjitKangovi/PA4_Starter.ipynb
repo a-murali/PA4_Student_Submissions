{
 "cells": [
  {
   "cell_type": "markdown",
   "metadata": {
    "execution": {
     "iopub.execute_input": "2025-03-12T03:37:19.711352Z",
     "iopub.status.busy": "2025-03-12T03:37:19.711103Z",
     "iopub.status.idle": "2025-03-12T03:37:19.794671Z",
     "shell.execute_reply": "2025-03-12T03:37:19.793901Z",
     "shell.execute_reply.started": "2025-03-12T03:37:19.711323Z"
    },
    "tags": []
   },
   "source": [
    "# MGTA 466: Analytics Assignment 4 - Word Count on Amazon EMR\n",
    "\n",
    "---\n",
    "\n",
    "#### Tasks:\n",
    "\n",
    "- Work with **BookReviews_1M** dataset to set up the word count exercise as you did in PA2. \n",
    "    - This is only to get you started on AWS and you won't need to report anything on this dataset except the run-time of your code.\n",
    "- Find the top 50 words containing the letter 'z' (lowercase) and their counts based on word count for the **BookReviews_4M** dataset\n",
    "- Calculate average and standard deviation of execution times over 3 runs for these three settings:\n",
    "    1. BookReviews_1M - 1 master + 1 worker node \n",
    "    2. BookReviews_4M - 1 master + 1 worker node\n",
    "    3. BookReviews_4M - 1 master + 3 worker nodes\n",
    "##### **NOTE** - The worker nodes are also called core nodes when initializing them on AWS\n",
    "\n",
    "#### Submission on Gradescope:\n",
    "You need to submit the following three files under \"PA4\". Instructions to generate the csv files are given in their respective sections\n",
    "* The current notebook with outputs using **BookReviews_4M.json** dataset - **PA4_Starter.ipynb**\n",
    "IMPORTANT: Make sure that all expected outputs are present and the output of each cell matches the expected output. **Do not display your outputs under new cells**\n",
    "* csv file containing the 50 most frequently occurring words containing the letter 'z' and their counts for the **BookReviews_4M** dataset + column header - **50_words.csv** (Instructions given below)\n",
    "* csv file containing execution times for the below dataset and EMR cluster configuration - **exec_times.csv** (Instructions given below)\n",
    "    1. BookReviews_1M - 1 master + 1 worker node \n",
    "    2. BookReviews_4M - 1 master + 1 worker node\n",
    "    3. BookReviews_4M - 1 master + 3 worker nodes\n",
    "* Screenshot of terminated clusters, cluster creation time, cluster elapsed time, and your username.\n",
    "  \n",
    "#### IMPORTANT submission guidelines enforced by autograder. Please read carefully:\n",
    "  * Make sure that all the cells in this notebook are executed before submission\n",
    "  * Some cells are marked **DO NOT DELETE**. These cells cannot be deleted and the output of these cells will be used for autograding\n",
    "  * You can add cells or delete(NOT recommended) other cells, but the **Expected Output** for each of the tasks MUST be the output of the cells marked as such\n",
    "  * DO NOT print anything other than the *exact* expected output. Do not include any sentences describing the output. This is strictly enforced by the autograder which checks for an *exact* match of the expected output. For example, if you are expected to print the PySpark version:\n",
    "      * '10.9.8' - <span style=\"color:#093\">CORRECT</span>\n",
    "      * 'The PySpark version is 10.9.8' - <span style=\"color:#FF0000\">INCORRECT</span>\n",
    "  * You can add cells for printing debugging information anywhere, but do not print anything else in **Expected Output** cells other than the expected output for the task\n",
    "  * For any task that expects `n` rows of a dataframe, **ALWAYS pass `truncate=False` as a parameter to `DataFrame.show` function**\n",
    "  * **NOTE - Any points deducted for not following submission guidelines will NOT be considered for regrade requests**\n",
    "\n",
    "---\n",
    "\n",
    "Remember: when in doubt, read the documentation first. It's always helpful to search for the class that you're trying to work with, e.g. pyspark.sql.DataFrame.\n",
    "\n",
    "PySpark API Documentation: https://spark.apache.org/docs/latest/api/python/index.html\n"
   ]
  },
  {
   "cell_type": "markdown",
   "metadata": {},
   "source": [
    "### 1. Upload the 1M dataset to S3\n",
    "\n",
    "To make the datasets available to the EMR cluster, we need to upload the data files to Amazon S3. Follow these steps to do so:\n",
    "\n",
    "1. In the Amazon console, open the **Services** menu on the top left and select **S3**\n",
    "2. Create a bucket if you don't have one yet. Use the default settings, but your bucket name must be unique. \n",
    "3. Create a folder in your bucket, e.g. `data`, using the default settings. (Don't upload the data file to the root of the bucket; we'll also use this bucket for later assignments, so it's good to keep everything organized.)\n",
    "4. Enter the folder and upload the **.txt** file. Do NOT upload the zip, as Spark won't know what to do with it. \n",
    "\n",
    "---\n",
    "\n",
    "You can use this dataset now.\n",
    "\n",
    "\n",
    "This exercise is only to help you understand how you can create your own S3 buckets and read data from it. The actual task for you is to read data (BookReviews_4M.json) from a different S3 bucket and work on that dataset."
   ]
  },
  {
   "cell_type": "markdown",
   "metadata": {},
   "source": [
    "### 2. Setting up the EMR cluster and creating a PySpark notebook\n",
    "\n",
    "We have already uploaded the 4M reviews data to the s3 bucket `s3://mgta466-w25` under the `data` folder. Follow the steps in the Session 4 Demo to create an EMR cluster followed by a workspace for you to work on this notebook. \n",
    "After launching the workspace (that is attached to your EMR cluster) in JupyterLab:\n",
    "\n",
    "1. Upload this notebook(**PA4_Starter.ipynb**) in the workspace. **IMPORTANT** Click on *kernel* on the top right and select **PySpark**\n",
    "2. The `BookReviews_4M.json` data is at `s3://mgta466-w25/data/BookReviews_4M.json`. In the following sections, use this URI for data file path"
   ]
  },
  {
   "cell_type": "markdown",
   "metadata": {},
   "source": [
    "### 3. Start Spark Session and Read Data - 2 points\n",
    "\n",
    "Note that you don't need to manually start the spark session. AWS does it for you in the background, so that the spark session is started as soon as you import pyspark. The spark session is automatically available in the global variable `spark`\n",
    "\n",
    "Remember that the kernel for running this Notebook is **PySpark** and not Python 3."
   ]
  },
  {
   "cell_type": "markdown",
   "metadata": {},
   "source": [
    "#### **Expected Output** - Spark version"
   ]
  },
  {
   "cell_type": "code",
   "execution_count": 7,
   "metadata": {
    "execution": {
     "iopub.execute_input": "2025-03-12T03:38:16.215221Z",
     "iopub.status.busy": "2025-03-12T03:38:16.214993Z",
     "iopub.status.idle": "2025-03-12T03:38:16.263890Z",
     "shell.execute_reply": "2025-03-12T03:38:16.263136Z",
     "shell.execute_reply.started": "2025-03-12T03:38:16.215194Z"
    },
    "tags": []
   },
   "outputs": [
    {
     "data": {
      "application/vnd.jupyter.widget-view+json": {
       "model_id": "4898508686f04d3cb1b66fe1a8081966",
       "version_major": 2,
       "version_minor": 0
      },
      "text/plain": [
       "VBox()"
      ]
     },
     "metadata": {},
     "output_type": "display_data"
    },
    {
     "data": {
      "application/vnd.jupyter.widget-view+json": {
       "model_id": "",
       "version_major": 2,
       "version_minor": 0
      },
      "text/plain": [
       "FloatProgress(value=0.0, bar_style='info', description='Progress:', layout=Layout(height='25px', width='50%'),…"
      ]
     },
     "metadata": {},
     "output_type": "display_data"
    },
    {
     "name": "stdout",
     "output_type": "stream",
     "text": [
      "3.5.3+amzn.1.dev0"
     ]
    }
   ],
   "source": [
    "# DO NOT DELETE THIS CELL\n",
    "# YOUR CODE HERE\n",
    "import pyspark\n",
    "print(pyspark.version.__version__)"
   ]
  },
  {
   "cell_type": "code",
   "execution_count": 8,
   "metadata": {
    "execution": {
     "iopub.execute_input": "2025-03-12T03:38:19.471025Z",
     "iopub.status.busy": "2025-03-12T03:38:19.470805Z",
     "iopub.status.idle": "2025-03-12T03:38:19.526433Z",
     "shell.execute_reply": "2025-03-12T03:38:19.525737Z",
     "shell.execute_reply.started": "2025-03-12T03:38:19.471001Z"
    },
    "tags": []
   },
   "outputs": [
    {
     "data": {
      "application/vnd.jupyter.widget-view+json": {
       "model_id": "a46f7b0eb67541248244ebc8e0ef09d6",
       "version_major": 2,
       "version_minor": 0
      },
      "text/plain": [
       "VBox()"
      ]
     },
     "metadata": {},
     "output_type": "display_data"
    },
    {
     "data": {
      "application/vnd.jupyter.widget-view+json": {
       "model_id": "",
       "version_major": 2,
       "version_minor": 0
      },
      "text/plain": [
       "FloatProgress(value=0.0, bar_style='info', description='Progress:', layout=Layout(height='25px', width='50%'),…"
      ]
     },
     "metadata": {},
     "output_type": "display_data"
    }
   ],
   "source": [
    "# Record the starting time of execution for timing this notebook\n",
    "\n",
    "import time\n",
    "start_time = time.time()"
   ]
  },
  {
   "cell_type": "code",
   "execution_count": 9,
   "metadata": {
    "execution": {
     "iopub.execute_input": "2025-03-12T03:38:22.133256Z",
     "iopub.status.busy": "2025-03-12T03:38:22.133024Z",
     "iopub.status.idle": "2025-03-12T03:38:22.183289Z",
     "shell.execute_reply": "2025-03-12T03:38:22.182649Z",
     "shell.execute_reply.started": "2025-03-12T03:38:22.133229Z"
    },
    "tags": []
   },
   "outputs": [
    {
     "data": {
      "application/vnd.jupyter.widget-view+json": {
       "model_id": "fc48db67acd3452386d00d38f7d32706",
       "version_major": 2,
       "version_minor": 0
      },
      "text/plain": [
       "VBox()"
      ]
     },
     "metadata": {},
     "output_type": "display_data"
    },
    {
     "data": {
      "application/vnd.jupyter.widget-view+json": {
       "model_id": "",
       "version_major": 2,
       "version_minor": 0
      },
      "text/plain": [
       "FloatProgress(value=0.0, bar_style='info', description='Progress:', layout=Layout(height='25px', width='50%'),…"
      ]
     },
     "metadata": {},
     "output_type": "display_data"
    }
   ],
   "source": [
    "#REPLACE WITH YOUR S3 PATH FOR BookReviews_1M.txt WHEN REQUIRED\n",
    "my_file = \"s3://mgta466-w25/data/BookReviews_4M.json\""
   ]
  },
  {
   "cell_type": "code",
   "execution_count": 10,
   "metadata": {
    "execution": {
     "iopub.execute_input": "2025-03-12T03:38:30.238103Z",
     "iopub.status.busy": "2025-03-12T03:38:30.237849Z",
     "iopub.status.idle": "2025-03-12T03:38:57.620867Z",
     "shell.execute_reply": "2025-03-12T03:38:57.620120Z",
     "shell.execute_reply.started": "2025-03-12T03:38:30.238077Z"
    },
    "tags": []
   },
   "outputs": [
    {
     "data": {
      "application/vnd.jupyter.widget-view+json": {
       "model_id": "d816fa47115d4b5789072e19f46a3e30",
       "version_major": 2,
       "version_minor": 0
      },
      "text/plain": [
       "VBox()"
      ]
     },
     "metadata": {},
     "output_type": "display_data"
    },
    {
     "data": {
      "application/vnd.jupyter.widget-view+json": {
       "model_id": "",
       "version_major": 2,
       "version_minor": 0
      },
      "text/plain": [
       "FloatProgress(value=0.0, bar_style='info', description='Progress:', layout=Layout(height='25px', width='50%'),…"
      ]
     },
     "metadata": {},
     "output_type": "display_data"
    }
   ],
   "source": [
    "# Read data from S3. The data is present in the S3 path provided above\n",
    "# YOUR CODE HERE\n",
    "BookReviews = spark.read.json(my_file)"
   ]
  },
  {
   "cell_type": "markdown",
   "metadata": {},
   "source": [
    "#### **Expected Output** - Number of rows of the dataframe"
   ]
  },
  {
   "cell_type": "code",
   "execution_count": 11,
   "metadata": {
    "execution": {
     "iopub.execute_input": "2025-03-12T03:39:32.980262Z",
     "iopub.status.busy": "2025-03-12T03:39:32.980040Z",
     "iopub.status.idle": "2025-03-12T03:39:50.308281Z",
     "shell.execute_reply": "2025-03-12T03:39:50.307636Z",
     "shell.execute_reply.started": "2025-03-12T03:39:32.980237Z"
    },
    "tags": []
   },
   "outputs": [
    {
     "data": {
      "application/vnd.jupyter.widget-view+json": {
       "model_id": "706c4989e52b4411a5ac32a249e16cf2",
       "version_major": 2,
       "version_minor": 0
      },
      "text/plain": [
       "VBox()"
      ]
     },
     "metadata": {},
     "output_type": "display_data"
    },
    {
     "data": {
      "application/vnd.jupyter.widget-view+json": {
       "model_id": "",
       "version_major": 2,
       "version_minor": 0
      },
      "text/plain": [
       "FloatProgress(value=0.0, bar_style='info', description='Progress:', layout=Layout(height='25px', width='50%'),…"
      ]
     },
     "metadata": {},
     "output_type": "display_data"
    },
    {
     "name": "stdout",
     "output_type": "stream",
     "text": [
      "4027011"
     ]
    }
   ],
   "source": [
    "# DO NOT DELETE THIS CELL\n",
    "# YOUR CODE HERE\n",
    "BookReviews.count()"
   ]
  },
  {
   "cell_type": "markdown",
   "metadata": {},
   "source": [
    "### 4. Examine the data - 1 point\n",
    "\n",
    "Your task: Examine the contents of the dataframe that you've just read from file.\n",
    "##### Note: For step 2 below keep only the reviewText column in the DF and rename reviewText to value\n",
    "\n",
    "Expected output: \n",
    "\n",
    "1. Schema of the raw dataframe (with all columns)\n",
    "2. First 25 rows of the dataframe showing only whole sentence of reviewText with column renamed to 'value'. Use the `truncate` parameter of `DataFrame.show` to display whole sentences without truncation\n",
    "\n",
    "**Note**: If you're attempting to run the notebook with \"BookReviews_1M.txt\", please note that it lacks the \"reviewText\" column. Consequently, you'll need to make appropriate changes to Step 2 and then display the first 25 rows of the DataFrame."
   ]
  },
  {
   "cell_type": "markdown",
   "metadata": {},
   "source": [
    "#### **Expected output** - Schema of the raw dataframe (with all columns)"
   ]
  },
  {
   "cell_type": "code",
   "execution_count": 12,
   "metadata": {
    "execution": {
     "iopub.execute_input": "2025-03-12T03:40:34.148620Z",
     "iopub.status.busy": "2025-03-12T03:40:34.148393Z",
     "iopub.status.idle": "2025-03-12T03:40:34.208226Z",
     "shell.execute_reply": "2025-03-12T03:40:34.207582Z",
     "shell.execute_reply.started": "2025-03-12T03:40:34.148595Z"
    },
    "tags": []
   },
   "outputs": [
    {
     "data": {
      "application/vnd.jupyter.widget-view+json": {
       "model_id": "41f97e2483cf471d9c3df14d42119fe2",
       "version_major": 2,
       "version_minor": 0
      },
      "text/plain": [
       "VBox()"
      ]
     },
     "metadata": {},
     "output_type": "display_data"
    },
    {
     "data": {
      "application/vnd.jupyter.widget-view+json": {
       "model_id": "",
       "version_major": 2,
       "version_minor": 0
      },
      "text/plain": [
       "FloatProgress(value=0.0, bar_style='info', description='Progress:', layout=Layout(height='25px', width='50%'),…"
      ]
     },
     "metadata": {},
     "output_type": "display_data"
    },
    {
     "name": "stdout",
     "output_type": "stream",
     "text": [
      "root\n",
      " |-- asin: string (nullable = true)\n",
      " |-- image: array (nullable = true)\n",
      " |    |-- element: string (containsNull = true)\n",
      " |-- overall: double (nullable = true)\n",
      " |-- reviewText: string (nullable = true)\n",
      " |-- reviewTime: string (nullable = true)\n",
      " |-- reviewerID: string (nullable = true)\n",
      " |-- reviewerName: string (nullable = true)\n",
      " |-- style: struct (nullable = true)\n",
      " |    |-- Color:: string (nullable = true)\n",
      " |    |-- Format:: string (nullable = true)\n",
      " |    |-- Package Quantity:: string (nullable = true)\n",
      " |    |-- Style:: string (nullable = true)\n",
      " |-- summary: string (nullable = true)\n",
      " |-- unixReviewTime: long (nullable = true)\n",
      " |-- verified: boolean (nullable = true)\n",
      " |-- vote: string (nullable = true)"
     ]
    }
   ],
   "source": [
    "# DO NOT DELETE THIS CELL\n",
    "# YOUR CODE HERE\n",
    "BookReviews.printSchema()"
   ]
  },
  {
   "cell_type": "markdown",
   "metadata": {},
   "source": [
    "#### **Expected output** - First 25 rows of the dataframe showing whole sentence under a column named `value`\n",
    "**REMINDER**: Always pass truncate=FALSE to dataframe show() methods"
   ]
  },
  {
   "cell_type": "code",
   "execution_count": 13,
   "metadata": {
    "execution": {
     "iopub.execute_input": "2025-03-12T03:40:36.908297Z",
     "iopub.status.busy": "2025-03-12T03:40:36.908079Z",
     "iopub.status.idle": "2025-03-12T03:40:37.673593Z",
     "shell.execute_reply": "2025-03-12T03:40:37.672958Z",
     "shell.execute_reply.started": "2025-03-12T03:40:36.908272Z"
    },
    "tags": []
   },
   "outputs": [
    {
     "data": {
      "application/vnd.jupyter.widget-view+json": {
       "model_id": "4c3be7a33293446cb400fb65253d4fd4",
       "version_major": 2,
       "version_minor": 0
      },
      "text/plain": [
       "VBox()"
      ]
     },
     "metadata": {},
     "output_type": "display_data"
    },
    {
     "data": {
      "application/vnd.jupyter.widget-view+json": {
       "model_id": "",
       "version_major": 2,
       "version_minor": 0
      },
      "text/plain": [
       "FloatProgress(value=0.0, bar_style='info', description='Progress:', layout=Layout(height='25px', width='50%'),…"
      ]
     },
     "metadata": {},
     "output_type": "display_data"
    },
    {
     "name": "stdout",
     "output_type": "stream",
     "text": [
      "+----------+-----+-------+--------------------+-----------+--------------+--------------------+--------------------+--------------------+--------------+--------+----+\n",
      "|      asin|image|overall|          reviewText| reviewTime|    reviewerID|        reviewerName|               style|             summary|unixReviewTime|verified|vote|\n",
      "+----------+-----+-------+--------------------+-----------+--------------+--------------------+--------------------+--------------------+--------------+--------+----+\n",
      "|0001713353| NULL|    5.0|My daughter got h...| 04 4, 2004| A1YRBRK2XM5D5|   Rebecca L. Menner|{NULL,  Hardcover...|          Third copy|    1081036800|   false|   5|\n",
      "|0001713353| NULL|    5.0|It is a very cute...|07 29, 2016| ACPQVNRD3Z09X|       Terri Dickson|{NULL,  Hardcover...|          Five Stars|    1469750400|    true|NULL|\n",
      "|0001713353| NULL|    5.0|      good comdition|02 14, 2016|A13CHIJPFCEP2M|   Janice Cunningham|{NULL,  Hardcover...|          Five Stars|    1455408000|    true|NULL|\n",
      "|0001713353| NULL|    5.0|My students (3 & ...|01 24, 2016|A324TTUBKTN73A|        Tekla Borner|{NULL,  Paperback...|          Five Stars|    1453593600|    true|NULL|\n",
      "|0001713353| NULL|    5.0|I'm using this bo...|04 21, 2014|A1RDVO9NPKWISU|      Erich Everbach|                NULL|wonderful childre...|    1398038400|    true|NULL|\n",
      "|0001713353| NULL|    5.0|We had this when ...|07 27, 2011|A3N7UC72L8TP0Z|        Nancy Thomas|{NULL,  Hardcover...|                 ***|    1311724800|    true|NULL|\n",
      "|0001713353| NULL|    5.0|Thanks to Amazon'...|04 11, 2011|A255PQDLPOCUXP|        Altbuttercup|{NULL,  Paperback...|Please bring back...|    1302480000|    true|NULL|\n",
      "|0001713353| NULL|    5.0|My husband wanted...|01 30, 2011|A3NHMUQN8HAVAW|              Mumof4|{NULL,  Paperback...|          Great book|    1296345600|    true|NULL|\n",
      "|0001061240| NULL|    5.0|I am 45; I grew u...|01 25, 1998|A3UOJT5NCIOS1U|  dtstroup@grove.net|{NULL,  Hardcover...|Best collection o...|     885686400|   false|   5|\n",
      "|0001061240| NULL|    5.0|I have always lik...|11 21, 2015|A3LQW5GZSXDXAG|     Amazon Customer|                NULL|I have always lik...|    1448064000|    true|NULL|\n",
      "|0001061240| NULL|    5.0|Book from my chil...|10 10, 2015|A3O9Q65T1EJYO8|        Sandy Burner|                NULL|Love it and will ...|    1444435200|    true|NULL|\n",
      "|0001061240| NULL|    5.0|Love, love this b...|12 16, 2014|A199XJR9ZO0EQ8|              csmith|                NULL|Love, love this book|    1418688000|   false|NULL|\n",
      "|0001061240| NULL|    5.0|I rated this a fi...| 10 2, 2013|A31QP3G4FS2A90|           Jo Barnes|{NULL,  Hardcover...|      Never grow old|    1380672000|    true|NULL|\n",
      "|0001061240| NULL|    5.0|A must for every ...|09 13, 2013|A3MMEIRXMH6QU3|      Nancy Freedman|                NULL|               A gem|    1379030400|    true|NULL|\n",
      "|0001061240| NULL|    5.0|One of my daughte...|08 27, 2013|A2C81B811FA56V|Helen D. Setterfield|{NULL,  Hardcover...|great to have a r...|    1377561600|    true|   2|\n",
      "|0001061240| NULL|    5.0|This is a favorit...| 03 6, 2013|A2A4SCGVEDWOX9|          M. Fieleke|                NULL|Classic, broad, w...|    1362528000|    true|   4|\n",
      "|0001061240| NULL|    5.0|This book was giv...|01 11, 2012|A2I3SX01TVDJJB|         Aaron White|                NULL|Best illustration...|    1326240000|   false|NULL|\n",
      "|0001932349| NULL|    5.0|I love this littl...|08 10, 2013| AG5WO5CYX6C2R|  susan clare knight|{NULL,  Hardcover...|I already have a ...|    1376092800|    true|NULL|\n",
      "|0001932349| NULL|    5.0|A sweet little bo...| 02 7, 2013| ARTMVRZR549T6|          Laura Bies|{NULL,  Hardcover...|          Sweet book|    1360195200|    true|NULL|\n",
      "|0001932349| NULL|    5.0|This book is so s...| 01 8, 2009|A1X9NB8F3KHOU5|              V. Nix|{NULL,  Hardcover...|Best children's b...|    1231372800|   false|NULL|\n",
      "+----------+-----+-------+--------------------+-----------+--------------+--------------------+--------------------+--------------------+--------------+--------+----+\n",
      "only showing top 20 rows"
     ]
    }
   ],
   "source": [
    "BookReviews.show()"
   ]
  },
  {
   "cell_type": "code",
   "execution_count": 14,
   "metadata": {
    "execution": {
     "iopub.execute_input": "2025-03-12T03:40:42.144921Z",
     "iopub.status.busy": "2025-03-12T03:40:42.144699Z",
     "iopub.status.idle": "2025-03-12T03:40:42.908046Z",
     "shell.execute_reply": "2025-03-12T03:40:42.907304Z",
     "shell.execute_reply.started": "2025-03-12T03:40:42.144896Z"
    },
    "tags": []
   },
   "outputs": [
    {
     "data": {
      "application/vnd.jupyter.widget-view+json": {
       "model_id": "36d8c2c144724f8b8d9652a2a0377168",
       "version_major": 2,
       "version_minor": 0
      },
      "text/plain": [
       "VBox()"
      ]
     },
     "metadata": {},
     "output_type": "display_data"
    },
    {
     "data": {
      "application/vnd.jupyter.widget-view+json": {
       "model_id": "",
       "version_major": 2,
       "version_minor": 0
      },
      "text/plain": [
       "FloatProgress(value=0.0, bar_style='info', description='Progress:', layout=Layout(height='25px', width='50%'),…"
      ]
     },
     "metadata": {},
     "output_type": "display_data"
    },
    {
     "name": "stdout",
     "output_type": "stream",
     "text": [
      "+---------------------------------------------------------------------------------------------------------------------------------------------------------------------------------------------------------------------------------------------------------------------------------------------------------------------------------------------------------------------------------------------------------------------------------------------------------------------------------------------------------------------------------------------------------------------------------------------------------------------------------------------------------------------------------------------------+\n",
      "|value                                                                                                                                                                                                                                                                                                                                                                                                                                                                                                                                                                                                                                                                                              |\n",
      "+---------------------------------------------------------------------------------------------------------------------------------------------------------------------------------------------------------------------------------------------------------------------------------------------------------------------------------------------------------------------------------------------------------------------------------------------------------------------------------------------------------------------------------------------------------------------------------------------------------------------------------------------------------------------------------------------------+\n",
      "|My daughter got her first copy from her great-grandmother (it had been my father's when he was a child). She loves it so much that she has worn out two copies now. Colorful pictures, easy to follow words, and wonderful morals (sharing, thinking problems through, and that the easy way isn't always the best way).                                                                                                                                                                                                                                                                                                                                                                           |\n",
      "|It is a very cute book with great illustrations,with an enjoyable story for children.                                                                                                                                                                                                                                                                                                                                                                                                                                                                                                                                                                                                              |\n",
      "|good comdition                                                                                                                                                                                                                                                                                                                                                                                                                                                                                                                                                                                                                                                                                     |\n",
      "|My students (3 & 4 year olds) loved this book!  Definitely recommend it to other teachers.                                                                                                                                                                                                                                                                                                                                                                                                                                                                                                                                                                                                         |\n",
      "|I'm using this book in a course on sustainability at the college level. In many ways it is better than the Lorax:  more fund and less didactic.                                                                                                                                                                                                                                                                                                                                                                                                                                                                                                                                                    |\n",
      "|We had this when I was growing up.  Great book about sharing.  I loved it then and I love it now.                                                                                                                                                                                                                                                                                                                                                                                                                                                                                                                                                                                                  |\n",
      "|Thanks to Amazon's used seller network, I was able to get a copy of this, a childhood favourite. It's a hit with my 3 and 5 year old boys and in regluar rotation at bedtime. Lots to discuss, from \"it was a good idea at the time\" to table manners. :)                                                                                                                                                                                                                                                                                                                                                                                                                                          |\n",
      "|My husband wanted this book to read to our 4 year old daughter ( who loves it).  He would read this to his oldest daughter who is 21 and she use to love it too.  Timeless book!!                                                                                                                                                                                                                                                                                                                                                                                                                                                                                                                  |\n",
      "|I am 45; I grew up with this book as our family poetry book-I am no poet but gained magic from having this book on the upstairs shelves to read when I wanted to--my folks didn't push it. I know there are many others but this one let poetry into the life of a hard core boy. I would like to get it for my son.                                                                                                                                                                                                                                                                                                                                                                               |\n",
      "|I have always liked this book. When my children were young, I read to them and wanted another copy to share with students.                                                                                                                                                                                                                                                                                                                                                                                                                                                                                                                                                                         |\n",
      "|Book from my childhood I had lost.  Love it and will enjoy having it for my grandchildren.                                                                                                                                                                                                                                                                                                                                                                                                                                                                                                                                                                                                         |\n",
      "|Love, love this book! I am so grateful for it, we've spent many moments bonding while reading these poems, I think this version might be better than the newer one.                                                                                                                                                                                                                                                                                                                                                                                                                                                                                                                                |\n",
      "|I rated this a five because it's the first book I used to introduce my-now 45 year old-son to poetry.  Custard the Magic Dragon was read over and over and he still remembers it to this day.  It's a charming mix of poetry, rhymes and stories in verse.  You'll treasure it for your children-and for yourself. If you can find a copy, get one and enjoy all it has to offer with your kids or by yourself.                                                                                                                                                                                                                                                                                    |\n",
      "|A must for every home, with or without children. Delightful! Each and every poem is a classic treasure. Wonderful to read out loud.                                                                                                                                                                                                                                                                                                                                                                                                                                                                                                                                                                |\n",
      "|One of my daughters, growing up, also loved this book, which I had had when I was a teenager.  Because she was a bit careless, the cover was destroyed.  It is so great to have a good copy again of this lovely collection which I can now read to my grandchildren.  The Anglund illustrations are, of course, delightful, and many of the selections simply cannot be found anymore, of either the poems or the illustrations.  A priceless book.                                                                                                                                                                                                                                               |\n",
      "|This is a favorite childhood book of mine.  I hunted it down after getting married in hopes of reading it to my children someday.  It's filled with wonderful classic poems.\\n\\nIt has some funny, witty poems but it doesn't have many of the \"silly\" slapstick style poems that are so common in kids poetry to day.  While some may see that as a liability, I think it's a great thing to expose kiddos to good literature from a young age.  If all kids digest is junk food, they will get fat.  If all they read is silly, slapstick poetry they will have a harder time appreciating classic stuff later on.                                                                               |\n",
      "|This book was given to my mom when she was 13 from her sister. She used to draw from the illustrations inside. When I was about 10, she let me start drawing from it. I absolutely love it! I have used it over the years to draw from, and now I teach art, and my students draw from these beautiful pen and ink illustrations. The book is lovely and full of wonderful poems and collections. And although the poetry is wonderful, I have to say the illustrations are my favorite ever. This is a classic you don't want to pass up!                                                                                                                                                         |\n",
      "|I love this little book which is wonderful to give as a gift to both adults and children. I already have my own copy but I wanted another to give one as a gift because it expresses in just a few, simple, touching words the way in which we would all like to be cherished,but probably never have been. It always makes me cry. I call it the agnostic's bible!\\n\\nClare.                                                                                                                                                                                                                                                                                                                      |\n",
      "|A sweet little book I got my mom for valentines day. She used to read it to me. Got the book fast and exactly as described. Perfect. Thank you.                                                                                                                                                                                                                                                                                                                                                                                                                                                                                                                                                    |\n",
      "|This book is so simple and beautiful and sweet, it's a must have for any child.  I was given it at four years old and it still has great meaning for me.  It's a keeper.                                                                                                                                                                                                                                                                                                                                                                                                                                                                                                                           |\n",
      "|i think that i've read this book more than a thousand times! and i'm sure that if i had to read it another time,i'll do it again!\\nat the end we discover that we're still looking to things of life just like the way we used to once we were children!\\nwaw! just read it,you won't regret it!\\ni will be so pleased to share my thoughts with someone who read it...and i will be more than pleased if i knew that i could have another from this author!                                                                                                                                                                                                                                       |\n",
      "|Lovely book and in excellent condition.                                                                                                                                                                                                                                                                                                                                                                                                                                                                                                                                                                                                                                                            |\n",
      "|Completly boring!!! Yes it's a childerns book that they will be able to read beacuse 60% of the book is the word Up.\\nThis one never gets picked for story time just sits on the shelf.\\nWe love Dr Seuss books but this one is disappointing.                                                                                                                                                                                                                                                                                                                                                                                                                                                     |\n",
      "|Good book and has my 1year old loves it since her favorite word is up.                                                                                                                                                                                                                                                                                                                                                                                                                                                                                                                                                                                                                             |\n",
      "|In this early reader, Dr. Seuss explores the concept of up.  What kinds of things can go up?  What does up look like?  In Seuss typical rhyming fashion we learn.\\n\\nThe illustrations are done by Quentin Blake so are not typical of Dr. Seuss.  They are interesting, colorful and fun.  The story is simple and repetitious making it easy for young readers to learn how to read new words.  Alongside the every day words, there are a few new things children might not know such as stilts and buttercups.  This is a fun early reader that makes learning to read easy due to repetition and rhyming.  It is written on the end of first grade reading level.  Recommended for grades k-2.|\n",
      "+---------------------------------------------------------------------------------------------------------------------------------------------------------------------------------------------------------------------------------------------------------------------------------------------------------------------------------------------------------------------------------------------------------------------------------------------------------------------------------------------------------------------------------------------------------------------------------------------------------------------------------------------------------------------------------------------------+\n",
      "only showing top 25 rows"
     ]
    }
   ],
   "source": [
    "# DO NOT DELETE THIS CELL\n",
    "# YOUR CODE HERE\n",
    "BookReviews.selectExpr(\"reviewText as value\").show(25, truncate=False)"
   ]
  },
  {
   "cell_type": "markdown",
   "metadata": {},
   "source": [
    "### 5. Clean the data - 2 point\n",
    "\n",
    "Your task: Remove all punctuations and convert all characters to lower case.\n",
    "\n",
    "Expected output: The first 25 rows of a dataframe, with a column containing the cleaned sentences. "
   ]
  },
  {
   "cell_type": "code",
   "execution_count": 15,
   "metadata": {
    "execution": {
     "iopub.execute_input": "2025-03-12T03:40:52.766481Z",
     "iopub.status.busy": "2025-03-12T03:40:52.766233Z",
     "iopub.status.idle": "2025-03-12T03:40:52.813266Z",
     "shell.execute_reply": "2025-03-12T03:40:52.812581Z",
     "shell.execute_reply.started": "2025-03-12T03:40:52.766452Z"
    },
    "tags": []
   },
   "outputs": [
    {
     "data": {
      "application/vnd.jupyter.widget-view+json": {
       "model_id": "338ce669a55d4365b253f1ca6487a016",
       "version_major": 2,
       "version_minor": 0
      },
      "text/plain": [
       "VBox()"
      ]
     },
     "metadata": {},
     "output_type": "display_data"
    },
    {
     "data": {
      "application/vnd.jupyter.widget-view+json": {
       "model_id": "",
       "version_major": 2,
       "version_minor": 0
      },
      "text/plain": [
       "FloatProgress(value=0.0, bar_style='info', description='Progress:', layout=Layout(height='25px', width='50%'),…"
      ]
     },
     "metadata": {},
     "output_type": "display_data"
    }
   ],
   "source": [
    "# Do not change this cell. \n",
    "\n",
    "# NOTE: Counterintuitively, column objects do NOT store any data; instead they store column expressions (transformations). \n",
    "#       The below function takes in a column object, and adds more expressions to it to make a more complex transformation. \n",
    "#       Once we have a column object representing the expressions we want, use DataFrame.select(column) to apply the expressions\n",
    "\n",
    "from pyspark.sql.functions import regexp_replace, trim, col, lower\n",
    "def removePunctuation(column):\n",
    "    \"\"\"Removes punctuation, changes to lower case, and strips leading and trailing spaces.\"\"\"\n",
    "    return trim(lower(regexp_replace(column, \"[^A-Za-z0-9 ]\", \"\"))).alias(\"sentence\")"
   ]
  },
  {
   "cell_type": "code",
   "execution_count": 16,
   "metadata": {
    "execution": {
     "iopub.execute_input": "2025-03-12T03:40:53.550234Z",
     "iopub.status.busy": "2025-03-12T03:40:53.550019Z",
     "iopub.status.idle": "2025-03-12T03:40:53.801458Z",
     "shell.execute_reply": "2025-03-12T03:40:53.800826Z",
     "shell.execute_reply.started": "2025-03-12T03:40:53.550209Z"
    },
    "tags": []
   },
   "outputs": [
    {
     "data": {
      "application/vnd.jupyter.widget-view+json": {
       "model_id": "7c51fd4d56ef4443b82d76794f257b91",
       "version_major": 2,
       "version_minor": 0
      },
      "text/plain": [
       "VBox()"
      ]
     },
     "metadata": {},
     "output_type": "display_data"
    },
    {
     "data": {
      "application/vnd.jupyter.widget-view+json": {
       "model_id": "",
       "version_major": 2,
       "version_minor": 0
      },
      "text/plain": [
       "FloatProgress(value=0.0, bar_style='info', description='Progress:', layout=Layout(height='25px', width='50%'),…"
      ]
     },
     "metadata": {},
     "output_type": "display_data"
    }
   ],
   "source": [
    "# Recommended: take a look at the contents of a column object returned from removePunctuations. What's in there? \n",
    "# No answers or outputs required for this cell. \n",
    "cleaned_column = removePunctuation(BookReviews['reviewText'])"
   ]
  },
  {
   "cell_type": "markdown",
   "metadata": {},
   "source": [
    "#### **Expected output** - The first 25 rows of the cleaned dataframe, with a column containing the **entire** cleaned sentences, under a column named `sentence`"
   ]
  },
  {
   "cell_type": "code",
   "execution_count": 17,
   "metadata": {
    "execution": {
     "iopub.execute_input": "2025-03-12T03:41:00.988337Z",
     "iopub.status.busy": "2025-03-12T03:41:00.988088Z",
     "iopub.status.idle": "2025-03-12T03:41:01.753397Z",
     "shell.execute_reply": "2025-03-12T03:41:01.752724Z",
     "shell.execute_reply.started": "2025-03-12T03:41:00.988310Z"
    },
    "tags": []
   },
   "outputs": [
    {
     "data": {
      "application/vnd.jupyter.widget-view+json": {
       "model_id": "e413ec25eb6b4968aef9483e7a6b840e",
       "version_major": 2,
       "version_minor": 0
      },
      "text/plain": [
       "VBox()"
      ]
     },
     "metadata": {},
     "output_type": "display_data"
    },
    {
     "data": {
      "application/vnd.jupyter.widget-view+json": {
       "model_id": "",
       "version_major": 2,
       "version_minor": 0
      },
      "text/plain": [
       "FloatProgress(value=0.0, bar_style='info', description='Progress:', layout=Layout(height='25px', width='50%'),…"
      ]
     },
     "metadata": {},
     "output_type": "display_data"
    },
    {
     "name": "stdout",
     "output_type": "stream",
     "text": [
      "+------------------------------------------------------------------------------------------------------------------------------------------------------------------------------------------------------------------------------------------------------------------------------------------------------------------------------------------------------------------------------------------------------------------------------------------------------------------------------------------------------------------------------------------------------------------------------------------------------------------------------------------------------------------------------+\n",
      "|sentence                                                                                                                                                                                                                                                                                                                                                                                                                                                                                                                                                                                                                                                                      |\n",
      "+------------------------------------------------------------------------------------------------------------------------------------------------------------------------------------------------------------------------------------------------------------------------------------------------------------------------------------------------------------------------------------------------------------------------------------------------------------------------------------------------------------------------------------------------------------------------------------------------------------------------------------------------------------------------------+\n",
      "|my daughter got her first copy from her greatgrandmother it had been my fathers when he was a child she loves it so much that she has worn out two copies now colorful pictures easy to follow words and wonderful morals sharing thinking problems through and that the easy way isnt always the best way                                                                                                                                                                                                                                                                                                                                                                    |\n",
      "|it is a very cute book with great illustrationswith an enjoyable story for children                                                                                                                                                                                                                                                                                                                                                                                                                                                                                                                                                                                           |\n",
      "|good comdition                                                                                                                                                                                                                                                                                                                                                                                                                                                                                                                                                                                                                                                                |\n",
      "|my students 3  4 year olds loved this book  definitely recommend it to other teachers                                                                                                                                                                                                                                                                                                                                                                                                                                                                                                                                                                                         |\n",
      "|im using this book in a course on sustainability at the college level in many ways it is better than the lorax  more fund and less didactic                                                                                                                                                                                                                                                                                                                                                                                                                                                                                                                                   |\n",
      "|we had this when i was growing up  great book about sharing  i loved it then and i love it now                                                                                                                                                                                                                                                                                                                                                                                                                                                                                                                                                                                |\n",
      "|thanks to amazons used seller network i was able to get a copy of this a childhood favourite its a hit with my 3 and 5 year old boys and in regluar rotation at bedtime lots to discuss from it was a good idea at the time to table manners                                                                                                                                                                                                                                                                                                                                                                                                                                  |\n",
      "|my husband wanted this book to read to our 4 year old daughter  who loves it  he would read this to his oldest daughter who is 21 and she use to love it too  timeless book                                                                                                                                                                                                                                                                                                                                                                                                                                                                                                   |\n",
      "|i am 45 i grew up with this book as our family poetry booki am no poet but gained magic from having this book on the upstairs shelves to read when i wanted tomy folks didnt push it i know there are many others but this one let poetry into the life of a hard core boy i would like to get it for my son                                                                                                                                                                                                                                                                                                                                                                  |\n",
      "|i have always liked this book when my children were young i read to them and wanted another copy to share with students                                                                                                                                                                                                                                                                                                                                                                                                                                                                                                                                                       |\n",
      "|book from my childhood i had lost  love it and will enjoy having it for my grandchildren                                                                                                                                                                                                                                                                                                                                                                                                                                                                                                                                                                                      |\n",
      "|love love this book i am so grateful for it weve spent many moments bonding while reading these poems i think this version might be better than the newer one                                                                                                                                                                                                                                                                                                                                                                                                                                                                                                                 |\n",
      "|i rated this a five because its the first book i used to introduce mynow 45 year oldson to poetry  custard the magic dragon was read over and over and he still remembers it to this day  its a charming mix of poetry rhymes and stories in verse  youll treasure it for your childrenand for yourself if you can find a copy get one and enjoy all it has to offer with your kids or by yourself                                                                                                                                                                                                                                                                            |\n",
      "|a must for every home with or without children delightful each and every poem is a classic treasure wonderful to read out loud                                                                                                                                                                                                                                                                                                                                                                                                                                                                                                                                                |\n",
      "|one of my daughters growing up also loved this book which i had had when i was a teenager  because she was a bit careless the cover was destroyed  it is so great to have a good copy again of this lovely collection which i can now read to my grandchildren  the anglund illustrations are of course delightful and many of the selections simply cannot be found anymore of either the poems or the illustrations  a priceless book                                                                                                                                                                                                                                       |\n",
      "|this is a favorite childhood book of mine  i hunted it down after getting married in hopes of reading it to my children someday  its filled with wonderful classic poemsit has some funny witty poems but it doesnt have many of the silly slapstick style poems that are so common in kids poetry to day  while some may see that as a liability i think its a great thing to expose kiddos to good literature from a young age  if all kids digest is junk food they will get fat  if all they read is silly slapstick poetry they will have a harder time appreciating classic stuff later on                                                                              |\n",
      "|this book was given to my mom when she was 13 from her sister she used to draw from the illustrations inside when i was about 10 she let me start drawing from it i absolutely love it i have used it over the years to draw from and now i teach art and my students draw from these beautiful pen and ink illustrations the book is lovely and full of wonderful poems and collections and although the poetry is wonderful i have to say the illustrations are my favorite ever this is a classic you dont want to pass up                                                                                                                                                 |\n",
      "|i love this little book which is wonderful to give as a gift to both adults and children i already have my own copy but i wanted another to give one as a gift because it expresses in just a few simple touching words the way in which we would all like to be cherishedbut probably never have been it always makes me cry i call it the agnostics bibleclare                                                                                                                                                                                                                                                                                                              |\n",
      "|a sweet little book i got my mom for valentines day she used to read it to me got the book fast and exactly as described perfect thank you                                                                                                                                                                                                                                                                                                                                                                                                                                                                                                                                    |\n",
      "|this book is so simple and beautiful and sweet its a must have for any child  i was given it at four years old and it still has great meaning for me  its a keeper                                                                                                                                                                                                                                                                                                                                                                                                                                                                                                            |\n",
      "|i think that ive read this book more than a thousand times and im sure that if i had to read it another timeill do it againat the end we discover that were still looking to things of life just like the way we used to once we were childrenwaw just read ityou wont regret iti will be so pleased to share my thoughts with someone who read itand i will be more than pleased if i knew that i could have another from this author                                                                                                                                                                                                                                        |\n",
      "|lovely book and in excellent condition                                                                                                                                                                                                                                                                                                                                                                                                                                                                                                                                                                                                                                        |\n",
      "|completly boring yes its a childerns book that they will be able to read beacuse 60 of the book is the word upthis one never gets picked for story time just sits on the shelfwe love dr seuss books but this one is disappointing                                                                                                                                                                                                                                                                                                                                                                                                                                            |\n",
      "|good book and has my 1year old loves it since her favorite word is up                                                                                                                                                                                                                                                                                                                                                                                                                                                                                                                                                                                                         |\n",
      "|in this early reader dr seuss explores the concept of up  what kinds of things can go up  what does up look like  in seuss typical rhyming fashion we learnthe illustrations are done by quentin blake so are not typical of dr seuss  they are interesting colorful and fun  the story is simple and repetitious making it easy for young readers to learn how to read new words  alongside the every day words there are a few new things children might not know such as stilts and buttercups  this is a fun early reader that makes learning to read easy due to repetition and rhyming  it is written on the end of first grade reading level  recommended for grades k2|\n",
      "+------------------------------------------------------------------------------------------------------------------------------------------------------------------------------------------------------------------------------------------------------------------------------------------------------------------------------------------------------------------------------------------------------------------------------------------------------------------------------------------------------------------------------------------------------------------------------------------------------------------------------------------------------------------------------+\n",
      "only showing top 25 rows"
     ]
    }
   ],
   "source": [
    "# DO NOT DELETE THIS CELL\n",
    "# execute the column expressions generated by removePunctuation() to clean the sentences\n",
    "# After that, use the show() function to print the first 25 rows of the dataframe\n",
    "# Hint: you'll need the Column object returned by removePunctuations(). \n",
    "\n",
    "# YOUR CODE HERE\n",
    "cleaned_df = BookReviews.select(cleaned_column)\n",
    "cleaned_df.show(25, truncate=False)"
   ]
  },
  {
   "cell_type": "markdown",
   "metadata": {},
   "source": [
    "### 6. Get dataframe containing unique words that contain the letter 'z' (lowercase) and their counts - 3 points\n",
    "\n",
    "#### 6.1 Create a dataframe of words - 1 point\n",
    "\n",
    "#### Tasks:\n",
    "1. Split each sentence into words based on the delimiter space (' ').\n",
    "2. Put each word in each sentence row into their own rows. Put your results into a new dataframe.\n",
    "3. Print out the first 5 rows of the dataframe.\n",
    "\n",
    "#### Expected output: \n",
    "1. Show first 5 rows of the output dataframe which would be:\n",
    "\n",
    "| word   |\n",
    "---------\n",
    "|my      |\n",
    "|daughter|\n",
    "|got     |\n",
    "|her     |\n",
    "|first   |\n",
    "    \n",
    "only showing top 5 rows"
   ]
  },
  {
   "cell_type": "markdown",
   "metadata": {},
   "source": [
    "#### **Expected output** - First 5 rows of the word dataframe, under a column named `word`."
   ]
  },
  {
   "cell_type": "code",
   "execution_count": 18,
   "metadata": {
    "execution": {
     "iopub.execute_input": "2025-03-12T03:41:10.174223Z",
     "iopub.status.busy": "2025-03-12T03:41:10.174006Z",
     "iopub.status.idle": "2025-03-12T03:41:10.934466Z",
     "shell.execute_reply": "2025-03-12T03:41:10.933865Z",
     "shell.execute_reply.started": "2025-03-12T03:41:10.174198Z"
    },
    "tags": []
   },
   "outputs": [
    {
     "data": {
      "application/vnd.jupyter.widget-view+json": {
       "model_id": "d66c8c0b6bd1409fbffcb7fd9ea814df",
       "version_major": 2,
       "version_minor": 0
      },
      "text/plain": [
       "VBox()"
      ]
     },
     "metadata": {},
     "output_type": "display_data"
    },
    {
     "data": {
      "application/vnd.jupyter.widget-view+json": {
       "model_id": "",
       "version_major": 2,
       "version_minor": 0
      },
      "text/plain": [
       "FloatProgress(value=0.0, bar_style='info', description='Progress:', layout=Layout(height='25px', width='50%'),…"
      ]
     },
     "metadata": {},
     "output_type": "display_data"
    },
    {
     "name": "stdout",
     "output_type": "stream",
     "text": [
      "+--------+\n",
      "|word    |\n",
      "+--------+\n",
      "|my      |\n",
      "|daughter|\n",
      "|got     |\n",
      "|her     |\n",
      "|first   |\n",
      "+--------+\n",
      "only showing top 5 rows"
     ]
    }
   ],
   "source": [
    "# DO NOT DELETE THIS CELL\n",
    "# Assemble the 'split' and 'explode' column expressions, then apply them to the sentence column\n",
    "\n",
    "from pyspark.sql.functions import split, explode\n",
    "\n",
    "# YOUR CODE HERE\n",
    "word_df = cleaned_df.select(explode(split(col(\"sentence\"), \" \")).alias(\"word\"))\n",
    "word_df.show(5, truncate=False)"
   ]
  },
  {
   "cell_type": "markdown",
   "metadata": {},
   "source": [
    "#### 6.2 Filter words that contain the letter 'z' and count them - 2 points\n",
    "\n",
    "#### Tasks:\n",
    "\n",
    "1. Remove all empty rows in the dataframe. These might have crept in because of the empty lines or words in the file.\n",
    "2. Filter the dataframe to contain only words that have the letter 'z' in them.\n",
    "2. Group rows in the previous dataframe by unique words, then count the rows in each group. Put your results into a new dataframe.\n",
    "\n",
    "#### Expected output:\n",
    "1. Show the first 25 rows of the dataframe, where each row contains only one word. The dataframe must not contain empty rows. \n",
    "2. Show 25 rows of the dataframe containing unique words and their counts\n",
    "\n",
    "##### The output after removing empty rows and filtering the dataframe would be similar to:\n",
    "\n",
    "\n",
    "|          word|\n",
    "----------------\n",
    "|       jazz|\n",
    "|         jazz|\n",
    "|      jazz|\n",
    "... 22 more\n",
    "\n",
    "##### The output after grouping unique words and counting the rows in each group would be similar to:\n",
    "\n",
    "\n",
    "|         word|count|\n",
    "--------------|------\n",
    "|arizona|1 |\n",
    "|huzzah         |18 |\n",
    "|zoo      |15   |\n",
    "... 22 more\n",
    "\n",
    "\n",
    "**NOTE** - The above tables are for illustration only. Your output may differ and should contain all 25 rows for each of the tasks\n"
   ]
  },
  {
   "cell_type": "markdown",
   "metadata": {},
   "source": [
    "#### **Expected output** - First 25 rows of the dataframe containing words with the letter 'z' in them, under a column named `word`."
   ]
  },
  {
   "cell_type": "code",
   "execution_count": 19,
   "metadata": {
    "execution": {
     "iopub.execute_input": "2025-03-12T03:41:14.226126Z",
     "iopub.status.busy": "2025-03-12T03:41:14.225891Z",
     "iopub.status.idle": "2025-03-12T03:41:14.985210Z",
     "shell.execute_reply": "2025-03-12T03:41:14.984535Z",
     "shell.execute_reply.started": "2025-03-12T03:41:14.226100Z"
    },
    "tags": []
   },
   "outputs": [
    {
     "data": {
      "application/vnd.jupyter.widget-view+json": {
       "model_id": "9320dd8f8e7f4f2a9d3cf954cba9f8ad",
       "version_major": 2,
       "version_minor": 0
      },
      "text/plain": [
       "VBox()"
      ]
     },
     "metadata": {},
     "output_type": "display_data"
    },
    {
     "data": {
      "application/vnd.jupyter.widget-view+json": {
       "model_id": "",
       "version_major": 2,
       "version_minor": 0
      },
      "text/plain": [
       "FloatProgress(value=0.0, bar_style='info', description='Progress:', layout=Layout(height='25px', width='50%'),…"
      ]
     },
     "metadata": {},
     "output_type": "display_data"
    },
    {
     "name": "stdout",
     "output_type": "stream",
     "text": [
      "+---------------------------------------------------------+\n",
      "|word                                                     |\n",
      "+---------------------------------------------------------+\n",
      "|amazons                                                  |\n",
      "|globalized                                               |\n",
      "|bazaar                                                   |\n",
      "|frozen                                                   |\n",
      "|recognize                                                |\n",
      "|httpsimagesnasslimagesamazoncomimagesi51spdzt7umlss300jpg|\n",
      "|alzheimers                                               |\n",
      "|characterization                                         |\n",
      "|amazed                                                   |\n",
      "|characterizations                                        |\n",
      "|arizona                                                  |\n",
      "|arizona                                                  |\n",
      "|size                                                     |\n",
      "|arizona                                                  |\n",
      "|rez                                                      |\n",
      "|byzantine                                                |\n",
      "|characterization                                         |\n",
      "|rez                                                      |\n",
      "|publicized                                               |\n",
      "|organizations                                            |\n",
      "|horizon                                                  |\n",
      "|comewatziznaymgmailcom                                   |\n",
      "|arizona                                                  |\n",
      "|organized                                                |\n",
      "|amazon                                                   |\n",
      "+---------------------------------------------------------+\n",
      "only showing top 25 rows"
     ]
    }
   ],
   "source": [
    "# DO NOT DELETE THIS CELL\n",
    "# YOUR CODE HERE\n",
    "from pyspark.sql.functions import length, col, count\n",
    "filtered_words_df = word_df.filter(col(\"word\") != \"\")\n",
    "words_with_z_df = filtered_words_df.filter(col(\"word\").contains(\"z\"))\n",
    "words_with_z_df.show(25, truncate=False)"
   ]
  },
  {
   "cell_type": "markdown",
   "metadata": {},
   "source": [
    "#### **Expected output** - First 25 rows of the dataframe containing words with the letter 'z' in them and their counts, under `word` and `count` columns respectively"
   ]
  },
  {
   "cell_type": "code",
   "execution_count": 20,
   "metadata": {
    "execution": {
     "iopub.execute_input": "2025-03-12T03:41:18.196576Z",
     "iopub.status.busy": "2025-03-12T03:41:18.196354Z",
     "iopub.status.idle": "2025-03-12T03:42:33.745104Z",
     "shell.execute_reply": "2025-03-12T03:42:33.744304Z",
     "shell.execute_reply.started": "2025-03-12T03:41:18.196551Z"
    },
    "tags": []
   },
   "outputs": [
    {
     "data": {
      "application/vnd.jupyter.widget-view+json": {
       "model_id": "98484c99c5fb4c6297e5497b96496a55",
       "version_major": 2,
       "version_minor": 0
      },
      "text/plain": [
       "VBox()"
      ]
     },
     "metadata": {},
     "output_type": "display_data"
    },
    {
     "data": {
      "application/vnd.jupyter.widget-view+json": {
       "model_id": "",
       "version_major": 2,
       "version_minor": 0
      },
      "text/plain": [
       "FloatProgress(value=0.0, bar_style='info', description='Progress:', layout=Layout(height='25px', width='50%'),…"
      ]
     },
     "metadata": {},
     "output_type": "display_data"
    },
    {
     "name": "stdout",
     "output_type": "stream",
     "text": [
      "+-----------------------------------------------------------------------------+-----+\n",
      "|word                                                                         |count|\n",
      "+-----------------------------------------------------------------------------+-----+\n",
      "|bazaar                                                                       |256  |\n",
      "|digitized                                                                    |127  |\n",
      "|glamourizing                                                                 |9    |\n",
      "|scheherzade                                                                  |1    |\n",
      "|enzoenzo                                                                     |1    |\n",
      "|lizardsthe                                                                   |3    |\n",
      "|agonizingly                                                                  |249  |\n",
      "|breezy                                                                       |1912 |\n",
      "|fizzlei                                                                      |3    |\n",
      "|zealotsscientific                                                            |1    |\n",
      "|zeroso                                                                       |5    |\n",
      "|pizzai                                                                       |4    |\n",
      "|timefitz                                                                     |1    |\n",
      "|verbalizing                                                                  |39   |\n",
      "|extravaganza                                                                 |151  |\n",
      "|anecdotesstiglitz                                                            |1    |\n",
      "|mizzou                                                                       |10   |\n",
      "|thomaskoontz                                                                 |1    |\n",
      "|amayzing                                                                     |3    |\n",
      "|equalizes                                                                    |7    |\n",
      "|humanize                                                                     |483  |\n",
      "|234235liza                                                                   |1    |\n",
      "|editionsamazingly                                                            |2    |\n",
      "|atomizer                                                                     |1    |\n",
      "|hrefperdidostreetstationnewcrobuzondpb000fbfo8crefcmcrarpdrvwtxtieutf8perdido|1    |\n",
      "+-----------------------------------------------------------------------------+-----+\n",
      "only showing top 25 rows"
     ]
    }
   ],
   "source": [
    "# DO NOT DELETE THIS CELL\n",
    "# YOUR CODE HERE\n",
    "word_counts_df = words_with_z_df.groupBy(\"word\").agg(count(\"*\").alias(\"count\"))\n",
    "word_counts_df.show(25, truncate=False)"
   ]
  },
  {
   "cell_type": "markdown",
   "metadata": {},
   "source": [
    "### 7. Sort the word count dataframe in a descending order by count - 2 point\n",
    "\n",
    "Your task: Sort the previous dataframe by the counts column in a descending order. Put your results into a new dataframe. \n",
    "\n",
    "Expected output: First 25 rows of the sorted word count dataframe. The first row would have the maximum count."
   ]
  },
  {
   "cell_type": "markdown",
   "metadata": {},
   "source": [
    "#### **Expected output** - First 25 rows of the sorted word count dataframe"
   ]
  },
  {
   "cell_type": "code",
   "execution_count": null,
   "metadata": {
    "execution": {
     "iopub.execute_input": "2025-03-12T03:42:41.837120Z",
     "iopub.status.busy": "2025-03-12T03:42:41.836897Z"
    },
    "tags": []
   },
   "outputs": [
    {
     "data": {
      "application/vnd.jupyter.widget-view+json": {
       "model_id": "4f9355e4802e4f5e844480e6594d48c4",
       "version_major": 2,
       "version_minor": 0
      },
      "text/plain": [
       "VBox()"
      ]
     },
     "metadata": {},
     "output_type": "display_data"
    },
    {
     "data": {
      "application/vnd.jupyter.widget-view+json": {
       "model_id": "72f40955e02743248e3d92bff0207193",
       "version_major": 2,
       "version_minor": 0
      },
      "text/plain": [
       "FloatProgress(value=0.0, bar_style='info', description='Progress:', layout=Layout(height='25px', width='50%'),…"
      ]
     },
     "metadata": {},
     "output_type": "display_data"
    }
   ],
   "source": [
    "# DO NOT DELETE THIS CELL\n",
    "# YOUR CODE HERE\n",
    "from pyspark.sql.functions import desc\n",
    "\n",
    "sorted_word_counts_df = word_counts_df.orderBy(desc(\"count\"))\n",
    "sorted_word_counts_df.show(25, truncate=False)\n"
   ]
  },
  {
   "cell_type": "markdown",
   "metadata": {},
   "source": [
    "### 8. Record the execution time\n",
    "\n",
    "Your task: Print the execution time.\n",
    "\n",
    "#### **Expected output** - The execution time. No particular value is expected."
   ]
  },
  {
   "cell_type": "code",
   "execution_count": 36,
   "metadata": {
    "execution": {
     "iopub.execute_input": "2025-03-12T03:20:26.972066Z",
     "iopub.status.busy": "2025-03-12T03:20:26.971820Z",
     "iopub.status.idle": "2025-03-12T03:20:27.021810Z",
     "shell.execute_reply": "2025-03-12T03:20:27.021070Z",
     "shell.execute_reply.started": "2025-03-12T03:20:26.972029Z"
    }
   },
   "outputs": [
    {
     "data": {
      "application/vnd.jupyter.widget-view+json": {
       "model_id": "4066668fd47f46c58db6048ecab76224",
       "version_major": 2,
       "version_minor": 0
      },
      "text/plain": [
       "VBox()"
      ]
     },
     "metadata": {},
     "output_type": "display_data"
    },
    {
     "data": {
      "application/vnd.jupyter.widget-view+json": {
       "model_id": "",
       "version_major": 2,
       "version_minor": 0
      },
      "text/plain": [
       "FloatProgress(value=0.0, bar_style='info', description='Progress:', layout=Layout(height='25px', width='50%'),…"
      ]
     },
     "metadata": {},
     "output_type": "display_data"
    },
    {
     "name": "stdout",
     "output_type": "stream",
     "text": [
      "191.39161086082458"
     ]
    }
   ],
   "source": [
    "# Print the time since execution start - You will need this value later.\n",
    "print(time.time() - start_time)"
   ]
  },
  {
   "cell_type": "markdown",
   "metadata": {},
   "source": [
    "### 9. Save the sorted word counts directly to S3 as a CSV file - 1 point\n",
    "\n",
    "NOTE: Spark uses a distributed memory system, and stores working data in fragments known as \"partitions\". This is advantageous when a Spark cluster spans multiple machines, as each machine will only require part of the working data to do its own job. By default, Spark will save each of these data partitions into a individual file to avoid I/O collisions. We want only one output file, so we'll need to fuse all the data into a single partition first. \n",
    "\n",
    "Your task: \n",
    "1. Coalesce the previous dataframe to one partition. This makes sure that all our results will end up in the same CSV file. \n",
    "2. Save the 1-partition dataframe to S3 using the DataFrame.write.csv() method. Take note to store the file inside S3, at a place that you can remember. The save path should look something like `s3://<your-bucket>/<your-folder>/<your-result-file>.csv`. Change these parameters to point to your bucket and folder.\n",
    "3. Remember to save the csv file along with the header\n"
   ]
  },
  {
   "cell_type": "markdown",
   "metadata": {},
   "source": [
    "### Note:\n",
    "\n",
    "#### You only need to run the section 9 and section 10 once for the 4M dataset.\n",
    "#### Section 11 requires you to run multiple iterations of this Notebook, and for that you can comment out the code in section 9 so that it's easier for you to run."
   ]
  },
  {
   "cell_type": "code",
   "execution_count": 37,
   "metadata": {
    "execution": {
     "iopub.execute_input": "2025-03-12T03:20:27.022974Z",
     "iopub.status.busy": "2025-03-12T03:20:27.022800Z",
     "iopub.status.idle": "2025-03-12T03:20:27.065278Z",
     "shell.execute_reply": "2025-03-12T03:20:27.064731Z",
     "shell.execute_reply.started": "2025-03-12T03:20:27.022945Z"
    }
   },
   "outputs": [
    {
     "data": {
      "application/vnd.jupyter.widget-view+json": {
       "model_id": "e2bde869465f437789607c231db66990",
       "version_major": 2,
       "version_minor": 0
      },
      "text/plain": [
       "VBox()"
      ]
     },
     "metadata": {},
     "output_type": "display_data"
    },
    {
     "data": {
      "application/vnd.jupyter.widget-view+json": {
       "model_id": "",
       "version_major": 2,
       "version_minor": 0
      },
      "text/plain": [
       "FloatProgress(value=0.0, bar_style='info', description='Progress:', layout=Layout(height='25px', width='50%'),…"
      ]
     },
     "metadata": {},
     "output_type": "display_data"
    }
   ],
   "source": [
    "#top_50_df = sorted_word_counts_df.limit(50)\n",
    "\n",
    "# Ensure that the top 50 rows are written to a single CSV file with a header\n",
    "#top_50_df.coalesce(1).write.csv(\n",
    "#    \"s3://pa4sanjit/code/top_50.csv\",\n",
    "#    header=True,  # Ensures column names are written\n",
    "#    mode=\"overwrite\"  # Overwrites existing file\n",
    "#)"
   ]
  },
  {
   "cell_type": "code",
   "execution_count": 38,
   "metadata": {
    "execution": {
     "iopub.execute_input": "2025-03-12T03:20:27.066323Z",
     "iopub.status.busy": "2025-03-12T03:20:27.066164Z",
     "iopub.status.idle": "2025-03-12T03:20:27.817554Z",
     "shell.execute_reply": "2025-03-12T03:20:27.816891Z",
     "shell.execute_reply.started": "2025-03-12T03:20:27.066302Z"
    }
   },
   "outputs": [
    {
     "data": {
      "application/vnd.jupyter.widget-view+json": {
       "model_id": "de4993b7b6924c00bc9d44051df2fb04",
       "version_major": 2,
       "version_minor": 0
      },
      "text/plain": [
       "VBox()"
      ]
     },
     "metadata": {},
     "output_type": "display_data"
    },
    {
     "data": {
      "application/vnd.jupyter.widget-view+json": {
       "model_id": "",
       "version_major": 2,
       "version_minor": 0
      },
      "text/plain": [
       "FloatProgress(value=0.0, bar_style='info', description='Progress:', layout=Layout(height='25px', width='50%'),…"
      ]
     },
     "metadata": {},
     "output_type": "display_data"
    }
   ],
   "source": [
    "# Stop Spark session\n",
    "\n",
    "spark.stop()"
   ]
  },
  {
   "cell_type": "markdown",
   "metadata": {},
   "source": [
    "### 10. Submission of `50_rows.csv` - Download the CSV file from S3 to your local machine and create the expected CSV output file - 2 point\n",
    "\n",
    "1. Navigate to the S3 folder where you stored your output\n",
    "2. Note the name of this file, it should look something like `part-00000-xx.....xx.csv`. \n",
    "3. Click on this file, it should open the file properties.\n",
    "4. Click on 'Download'.\n",
    "5. After downloading the file, you can rename it to anthing, say `results.csv`. \n",
    "6. We want you to submit a CSV containing the first 50 rows of the results file. Remember that we want the first 51 lines which would include the header as well - so basically it is header + 50 rows.\n",
    "\n"
   ]
  },
  {
   "cell_type": "markdown",
   "metadata": {},
   "source": [
    "### 11. Submission of `exec_times.csv` - Execution times on different dataset and settings - 2 point\n",
    "\n",
    "You need to experiment with using different number of master and worker nodes for running this whole Jupyter Notebook. You will have to report the execution time of this Notebook as you noted in an earlier section.\n",
    "\n",
    "1. Create a cluster with the required number of master and worker(core) nodes.\n",
    "2. Then go to the Kernel tab in JupyterLab, and do 'Restart and run all cells.'\n",
    "3. You should note the time in the cell just before section 9 - this is the time that it took for all the code to run.\n",
    "4. Then, start a new cluster with a different configuration of master and worker nodes and dataset as expected. Run the Notebook again, and note the execution times.\n",
    "5. You must change the dataFileName to read the BookReviews_1M.txt from your S3 bucket. Also note that BookReviews_1M.txt and BookReviews_4M.json have different data formats and must be handled appropriately.\n",
    "6. Create a csv file `exec_times.csv` and fill it in the following format:"
   ]
  },
  {
   "cell_type": "markdown",
   "metadata": {},
   "source": [
    "| Dataset | #Master Nodes | #Core Nodes | Runtime_1 | Runtime_2 | Runtime_3 | Mean | Std |\n",
    "| :-: | :-: | :-: | :-: | :-: | :-: | :-: | :-: |\n",
    "| 1M | 1 | 1 | | | | | | \n",
    "| 4M | 1 | 1 | | | | | |\n",
    "| 4M | 1 | 3 | | | | | |"
   ]
  },
  {
   "cell_type": "markdown",
   "metadata": {},
   "source": [
    "### 12. Screenshots of terminated EMR clusters -`cluster_ss.png`\n",
    "\n",
    "You need to attach a screenshot of your Amazon EMR 'Clusters' page which shows your terminated clusters, cluster creation time, cluster elapsed time, and your username."
   ]
  },
  {
   "cell_type": "code",
   "execution_count": null,
   "metadata": {
    "cell_id": "31ebd2b5-f0f7-4f99-82a9-2ffffc401617",
    "deletable": false,
    "editable": true,
    "tags": []
   },
   "outputs": [],
   "source": []
  }
 ],
 "metadata": {
  "kernelspec": {
   "display_name": "PySpark",
   "language": "python",
   "name": "pysparkkernel"
  },
  "language_info": {
   "codemirror_mode": {
    "name": "python",
    "version": 3
   },
   "file_extension": ".py",
   "mimetype": "text/x-python",
   "name": "pyspark",
   "pygments_lexer": "python3"
  }
 },
 "nbformat": 4,
 "nbformat_minor": 4
}
