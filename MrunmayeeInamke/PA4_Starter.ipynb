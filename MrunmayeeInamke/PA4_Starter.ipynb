{
 "cells": [
  {
   "cell_type": "markdown",
   "metadata": {},
   "source": [
    "# MGTA 466: Analytics Assignment 4 - Word Count on Amazon EMR\n",
    "\n",
    "---\n",
    "\n",
    "#### Tasks:\n",
    "\n",
    "- Work with **BookReviews_1M** dataset to set up the word count exercise as you did in PA2. \n",
    "    - This is only to get you started on AWS and you won't need to report anything on this dataset except the run-time of your code.\n",
    "- Find the top 50 words containing the letter 'z' (lowercase) and their counts based on word count for the **BookReviews_4M** dataset\n",
    "- Calculate average and standard deviation of execution times over 3 runs for these three settings:\n",
    "    1. BookReviews_1M - 1 master + 1 worker node \n",
    "    2. BookReviews_4M - 1 master + 1 worker node\n",
    "    3. BookReviews_4M - 1 master + 3 worker nodes\n",
    "##### **NOTE** - The worker nodes are also called core nodes when initializing them on AWS\n",
    "\n",
    "#### Submission on Gradescope:\n",
    "You need to submit the following three files under \"PA4\". Instructions to generate the csv files are given in their respective sections\n",
    "* The current notebook with outputs using **BookReviews_4M.json** dataset - **PA4_Starter.ipynb**\n",
    "IMPORTANT: Make sure that all expected outputs are present and the output of each cell matches the expected output. **Do not display your outputs under new cells**\n",
    "* csv file containing the 50 most frequently occurring words containing the letter 'z' and their counts for the **BookReviews_4M** dataset + column header - **50_words.csv** (Instructions given below)\n",
    "* csv file containing execution times for the below dataset and EMR cluster configuration - **exec_times.csv** (Instructions given below)\n",
    "    1. BookReviews_1M - 1 master + 1 worker node \n",
    "    2. BookReviews_4M - 1 master + 1 worker node\n",
    "    3. BookReviews_4M - 1 master + 3 worker nodes\n",
    "* Screenshot of terminated clusters, cluster creation time, cluster elapsed time, and your username.\n",
    "  \n",
    "#### IMPORTANT submission guidelines enforced by autograder. Please read carefully:\n",
    "  * Make sure that all the cells in this notebook are executed before submission\n",
    "  * Some cells are marked **DO NOT DELETE**. These cells cannot be deleted and the output of these cells will be used for autograding\n",
    "  * You can add cells or delete(NOT recommended) other cells, but the **Expected Output** for each of the tasks MUST be the output of the cells marked as such\n",
    "  * DO NOT print anything other than the *exact* expected output. Do not include any sentences describing the output. This is strictly enforced by the autograder which checks for an *exact* match of the expected output. For example, if you are expected to print the PySpark version:\n",
    "      * '10.9.8' - <span style=\"color:#093\">CORRECT</span>\n",
    "      * 'The PySpark version is 10.9.8' - <span style=\"color:#FF0000\">INCORRECT</span>\n",
    "  * You can add cells for printing debugging information anywhere, but do not print anything else in **Expected Output** cells other than the expected output for the task\n",
    "  * For any task that expects `n` rows of a dataframe, **ALWAYS pass `truncate=False` as a parameter to `DataFrame.show` function**\n",
    "  * **NOTE - Any points deducted for not following submission guidelines will NOT be considered for regrade requests**\n",
    "\n",
    "---\n",
    "\n",
    "Remember: when in doubt, read the documentation first. It's always helpful to search for the class that you're trying to work with, e.g. pyspark.sql.DataFrame.\n",
    "\n",
    "PySpark API Documentation: https://spark.apache.org/docs/latest/api/python/index.html\n"
   ]
  },
  {
   "cell_type": "markdown",
   "metadata": {},
   "source": [
    "### 1. Upload the 1M dataset to S3\n",
    "\n",
    "To make the datasets available to the EMR cluster, we need to upload the data files to Amazon S3. Follow these steps to do so:\n",
    "\n",
    "1. In the Amazon console, open the **Services** menu on the top left and select **S3**\n",
    "2. Create a bucket if you don't have one yet. Use the default settings, but your bucket name must be unique. \n",
    "3. Create a folder in your bucket, e.g. `data`, using the default settings. (Don't upload the data file to the root of the bucket; we'll also use this bucket for later assignments, so it's good to keep everything organized.)\n",
    "4. Enter the folder and upload the **.txt** file. Do NOT upload the zip, as Spark won't know what to do with it. \n",
    "\n",
    "---\n",
    "\n",
    "You can use this dataset now.\n",
    "\n",
    "\n",
    "This exercise is only to help you understand how you can create your own S3 buckets and read data from it. The actual task for you is to read data (BookReviews_4M.json) from a different S3 bucket and work on that dataset."
   ]
  },
  {
   "cell_type": "markdown",
   "metadata": {},
   "source": [
    "### 2. Setting up the EMR cluster and creating a PySpark notebook\n",
    "\n",
    "We have already uploaded the 4M reviews data to the s3 bucket `s3://mgta466-w25` under the `data` folder. Follow the steps in the Session 4 Demo to create an EMR cluster followed by a workspace for you to work on this notebook. \n",
    "After launching the workspace (that is attached to your EMR cluster) in JupyterLab:\n",
    "\n",
    "1. Upload this notebook(**PA4_Starter.ipynb**) in the workspace. **IMPORTANT** Click on *kernel* on the top right and select **PySpark**\n",
    "2. The `BookReviews_4M.json` data is at `s3://mgta466-w25/data/BookReviews_4M.json`. In the following sections, use this URI for data file path"
   ]
  },
  {
   "cell_type": "markdown",
   "metadata": {},
   "source": [
    "### 3. Start Spark Session and Read Data - 2 points\n",
    "\n",
    "Note that you don't need to manually start the spark session. AWS does it for you in the background, so that the spark session is started as soon as you import pyspark. The spark session is automatically available in the global variable `spark`\n",
    "\n",
    "Remember that the kernel for running this Notebook is **PySpark** and not Python 3."
   ]
  },
  {
   "cell_type": "markdown",
   "metadata": {},
   "source": [
    "#### **Expected Output** - Spark version"
   ]
  },
  {
   "cell_type": "code",
   "execution_count": 1,
   "metadata": {
    "cell_id": "31ebd2b5-f0f7-4f99-82a9-2ffffc401617",
    "deletable": false,
    "editable": true,
    "execution": {
     "iopub.execute_input": "2025-03-10T12:20:40.007422Z",
     "iopub.status.busy": "2025-03-10T12:20:40.007195Z",
     "iopub.status.idle": "2025-03-12T05:31:04.194657Z",
     "shell.execute_reply": "2025-03-12T05:31:04.193922Z",
     "shell.execute_reply.started": "2025-03-12T05:29:46.336314Z"
    },
    "tags": []
   },
   "outputs": [
    {
     "data": {
      "application/vnd.jupyter.widget-view+json": {
       "model_id": "36f274ef8b5a43cebf9876bb462d46ad",
       "version_major": 2,
       "version_minor": 0
      },
      "text/plain": [
       "VBox()"
      ]
     },
     "metadata": {},
     "output_type": "display_data"
    },
    {
     "name": "stdout",
     "output_type": "stream",
     "text": [
      "Starting Spark application\n"
     ]
    },
    {
     "data": {
      "text/html": [
       "<table>\n<tbody><tr><th>ID</th><th>YARN Application ID</th><th>Kind</th><th>State</th><th>Spark UI</th><th>Driver log</th><th>User</th><th>Current session?</th></tr><tr><td>0</td><td>application_1741757123775_0001</td><td>pyspark</td><td>idle</td><td><a target=\"_blank\" href=\"http://ip-172-31-35-245.us-west-2.compute.internal:20888/proxy/application_1741757123775_0001/\" class=\"emr-proxy-link j-1NN3UZ93X20TJ application_1741757123775_0001\" emr-resource=\"j-1NN3UZ93X20TJ\n\" application-id=\"application_1741757123775_0001\">Link</a></td><td><a target=\"_blank\" href=\"http://ip-172-31-44-4.us-west-2.compute.internal:8042/node/containerlogs/container_1741757123775_0001_01_000001/livy\">Link</a></td><td>None</td><td>✔</td></tr></tbody></table>"
      ],
      "text/plain": [
       "<IPython.core.display.HTML object>"
      ]
     },
     "metadata": {},
     "output_type": "display_data"
    },
    {
     "data": {
      "application/vnd.jupyter.widget-view+json": {
       "model_id": "",
       "version_major": 2,
       "version_minor": 0
      },
      "text/plain": [
       "FloatProgress(value=0.0, bar_style='info', description='Progress:', layout=Layout(height='25px', width='50%'),…"
      ]
     },
     "metadata": {},
     "output_type": "display_data"
    },
    {
     "name": "stdout",
     "output_type": "stream",
     "text": [
      "SparkSession available as 'spark'.\n"
     ]
    },
    {
     "data": {
      "application/vnd.jupyter.widget-view+json": {
       "model_id": "",
       "version_major": 2,
       "version_minor": 0
      },
      "text/plain": [
       "FloatProgress(value=0.0, bar_style='info', description='Progress:', layout=Layout(height='25px', width='50%'),…"
      ]
     },
     "metadata": {},
     "output_type": "display_data"
    },
    {
     "name": "stdout",
     "output_type": "stream",
     "text": [
      "'3.5.4+amzn.0'"
     ]
    }
   ],
   "source": [
    "# DO NOT DELETE THIS CELL\n",
    "# YOUR CODE HERE\n",
    "import pyspark\n",
    "print(pyspark.__version__)"
   ]
  },
  {
   "cell_type": "code",
   "execution_count": 2,
   "metadata": {
    "execution": {
     "iopub.execute_input": "2025-03-12T05:32:15.061585Z",
     "iopub.status.busy": "2025-03-12T05:32:15.061358Z",
     "iopub.status.idle": "2025-03-12T05:32:15.137078Z",
     "shell.execute_reply": "2025-03-12T05:32:15.136112Z",
     "shell.execute_reply.started": "2025-03-12T05:32:15.061557Z"
    }
   },
   "outputs": [
    {
     "data": {
      "application/vnd.jupyter.widget-view+json": {
       "model_id": "62553b3f3fad4789b894c470d5900efe",
       "version_major": 2,
       "version_minor": 0
      },
      "text/plain": [
       "VBox()"
      ]
     },
     "metadata": {},
     "output_type": "display_data"
    },
    {
     "data": {
      "application/vnd.jupyter.widget-view+json": {
       "model_id": "",
       "version_major": 2,
       "version_minor": 0
      },
      "text/plain": [
       "FloatProgress(value=0.0, bar_style='info', description='Progress:', layout=Layout(height='25px', width='50%'),…"
      ]
     },
     "metadata": {},
     "output_type": "display_data"
    }
   ],
   "source": [
    "# Record the starting time of execution for timing this notebook\n",
    "\n",
    "import time\n",
    "start_time = time.time()"
   ]
  },
  {
   "cell_type": "code",
   "execution_count": 3,
   "metadata": {
    "execution": {
     "iopub.execute_input": "2025-03-12T05:32:15.139090Z",
     "iopub.status.busy": "2025-03-12T05:32:15.138577Z",
     "iopub.status.idle": "2025-03-12T05:32:15.215107Z",
     "shell.execute_reply": "2025-03-12T05:32:15.214522Z",
     "shell.execute_reply.started": "2025-03-12T05:32:15.139051Z"
    }
   },
   "outputs": [
    {
     "data": {
      "application/vnd.jupyter.widget-view+json": {
       "model_id": "f9c9c75825ba445ba0ec1f55f0d67f09",
       "version_major": 2,
       "version_minor": 0
      },
      "text/plain": [
       "VBox()"
      ]
     },
     "metadata": {},
     "output_type": "display_data"
    },
    {
     "data": {
      "application/vnd.jupyter.widget-view+json": {
       "model_id": "",
       "version_major": 2,
       "version_minor": 0
      },
      "text/plain": [
       "FloatProgress(value=0.0, bar_style='info', description='Progress:', layout=Layout(height='25px', width='50%'),…"
      ]
     },
     "metadata": {},
     "output_type": "display_data"
    }
   ],
   "source": [
    "#REPLACE WITH YOUR S3 PATH FOR BookReviews_1M.txt WHEN REQUIRED\n",
    "dataFileName = \"s3://mgta466-w25/data/BookReviews_4M.json\""
   ]
  },
  {
   "cell_type": "code",
   "execution_count": 4,
   "metadata": {
    "execution": {
     "iopub.execute_input": "2025-03-12T05:32:15.217583Z",
     "iopub.status.busy": "2025-03-12T05:32:15.217076Z",
     "iopub.status.idle": "2025-03-12T05:32:38.611264Z",
     "shell.execute_reply": "2025-03-12T05:32:38.610475Z",
     "shell.execute_reply.started": "2025-03-12T05:32:15.217544Z"
    }
   },
   "outputs": [
    {
     "data": {
      "application/vnd.jupyter.widget-view+json": {
       "model_id": "37ca39d7da20494fbb260ea2b4d8d93a",
       "version_major": 2,
       "version_minor": 0
      },
      "text/plain": [
       "VBox()"
      ]
     },
     "metadata": {},
     "output_type": "display_data"
    },
    {
     "data": {
      "application/vnd.jupyter.widget-view+json": {
       "model_id": "",
       "version_major": 2,
       "version_minor": 0
      },
      "text/plain": [
       "FloatProgress(value=0.0, bar_style='info', description='Progress:', layout=Layout(height='25px', width='50%'),…"
      ]
     },
     "metadata": {},
     "output_type": "display_data"
    },
    {
     "name": "stdout",
     "output_type": "stream",
     "text": [
      "DataFrame[asin: string, image: array<string>, overall: double, reviewText: string, reviewTime: string, reviewerID: string, reviewerName: string, style: struct<Color::string,Format::string,Package Quantity::string,Style::string>, summary: string, unixReviewTime: bigint, verified: boolean, vote: string]"
     ]
    }
   ],
   "source": [
    "# Read data from S3. The data is present in the S3 path provided above\n",
    "# YOUR CODE HERE\n",
    "df = spark.read.json(dataFileName)\n",
    "print(df)"
   ]
  },
  {
   "cell_type": "markdown",
   "metadata": {},
   "source": [
    "#### **Expected Output** - Number of rows of the dataframe"
   ]
  },
  {
   "cell_type": "code",
   "execution_count": 5,
   "metadata": {
    "execution": {
     "iopub.execute_input": "2025-03-12T05:32:38.612651Z",
     "iopub.status.busy": "2025-03-12T05:32:38.612481Z",
     "iopub.status.idle": "2025-03-12T05:32:49.929215Z",
     "shell.execute_reply": "2025-03-12T05:32:49.928603Z",
     "shell.execute_reply.started": "2025-03-12T05:32:38.612628Z"
    }
   },
   "outputs": [
    {
     "data": {
      "application/vnd.jupyter.widget-view+json": {
       "model_id": "ff54e292146748949d9b0e2daaf79015",
       "version_major": 2,
       "version_minor": 0
      },
      "text/plain": [
       "VBox()"
      ]
     },
     "metadata": {},
     "output_type": "display_data"
    },
    {
     "data": {
      "application/vnd.jupyter.widget-view+json": {
       "model_id": "",
       "version_major": 2,
       "version_minor": 0
      },
      "text/plain": [
       "FloatProgress(value=0.0, bar_style='info', description='Progress:', layout=Layout(height='25px', width='50%'),…"
      ]
     },
     "metadata": {},
     "output_type": "display_data"
    },
    {
     "name": "stdout",
     "output_type": "stream",
     "text": [
      "4027011"
     ]
    }
   ],
   "source": [
    "# DO NOT DELETE THIS CELL\n",
    "# YOUR CODE HERE\n",
    "rowCount = df.count()\n",
    "\n",
    "# Print the number of rows\n",
    "print(rowCount)"
   ]
  },
  {
   "cell_type": "markdown",
   "metadata": {},
   "source": [
    "### 4. Examine the data - 1 point\n",
    "\n",
    "Your task: Examine the contents of the dataframe that you've just read from file.\n",
    "##### Note: For step 2 below keep only the reviewText column in the DF and rename reviewText to value\n",
    "\n",
    "Expected output: \n",
    "\n",
    "1. Schema of the raw dataframe (with all columns)\n",
    "2. First 25 rows of the dataframe showing only whole sentence of reviewText with column renamed to 'value'. Use the `truncate` parameter of `DataFrame.show` to display whole sentences without truncation\n",
    "\n",
    "**Note**: If you're attempting to run the notebook with \"BookReviews_1M.txt\", please note that it lacks the \"reviewText\" column. Consequently, you'll need to make appropriate changes to Step 2 and then display the first 25 rows of the DataFrame."
   ]
  },
  {
   "cell_type": "markdown",
   "metadata": {},
   "source": [
    "#### **Expected output** - Schema of the raw dataframe (with all columns)"
   ]
  },
  {
   "cell_type": "code",
   "execution_count": 6,
   "metadata": {
    "execution": {
     "iopub.execute_input": "2025-03-12T05:32:49.930368Z",
     "iopub.status.busy": "2025-03-12T05:32:49.930178Z",
     "iopub.status.idle": "2025-03-12T05:32:49.989820Z",
     "shell.execute_reply": "2025-03-12T05:32:49.988920Z",
     "shell.execute_reply.started": "2025-03-12T05:32:49.930344Z"
    }
   },
   "outputs": [
    {
     "data": {
      "application/vnd.jupyter.widget-view+json": {
       "model_id": "7f64641b7ffd47f99d1305e1494c0b05",
       "version_major": 2,
       "version_minor": 0
      },
      "text/plain": [
       "VBox()"
      ]
     },
     "metadata": {},
     "output_type": "display_data"
    },
    {
     "data": {
      "application/vnd.jupyter.widget-view+json": {
       "model_id": "",
       "version_major": 2,
       "version_minor": 0
      },
      "text/plain": [
       "FloatProgress(value=0.0, bar_style='info', description='Progress:', layout=Layout(height='25px', width='50%'),…"
      ]
     },
     "metadata": {},
     "output_type": "display_data"
    },
    {
     "name": "stdout",
     "output_type": "stream",
     "text": [
      "root\n",
      " |-- asin: string (nullable = true)\n",
      " |-- image: array (nullable = true)\n",
      " |    |-- element: string (containsNull = true)\n",
      " |-- overall: double (nullable = true)\n",
      " |-- reviewText: string (nullable = true)\n",
      " |-- reviewTime: string (nullable = true)\n",
      " |-- reviewerID: string (nullable = true)\n",
      " |-- reviewerName: string (nullable = true)\n",
      " |-- style: struct (nullable = true)\n",
      " |    |-- Color:: string (nullable = true)\n",
      " |    |-- Format:: string (nullable = true)\n",
      " |    |-- Package Quantity:: string (nullable = true)\n",
      " |    |-- Style:: string (nullable = true)\n",
      " |-- summary: string (nullable = true)\n",
      " |-- unixReviewTime: long (nullable = true)\n",
      " |-- verified: boolean (nullable = true)\n",
      " |-- vote: string (nullable = true)"
     ]
    }
   ],
   "source": [
    "# DO NOT DELETE THIS CELL\n",
    "# YOUR CODE HERE\n",
    "df.printSchema()"
   ]
  },
  {
   "cell_type": "markdown",
   "metadata": {},
   "source": [
    "#### **Expected output** - First 25 rows of the dataframe showing whole sentence under a column named `value`\n",
    "**REMINDER**: Always pass truncate=FALSE to dataframe show() methods"
   ]
  },
  {
   "cell_type": "code",
   "execution_count": 7,
   "metadata": {
    "execution": {
     "iopub.execute_input": "2025-03-12T05:32:49.991026Z",
     "iopub.status.busy": "2025-03-12T05:32:49.990855Z",
     "iopub.status.idle": "2025-03-12T05:32:50.758828Z",
     "shell.execute_reply": "2025-03-12T05:32:50.758214Z",
     "shell.execute_reply.started": "2025-03-12T05:32:49.991004Z"
    }
   },
   "outputs": [
    {
     "data": {
      "application/vnd.jupyter.widget-view+json": {
       "model_id": "f40468262abe4fc8bcbea9ff208a3e0c",
       "version_major": 2,
       "version_minor": 0
      },
      "text/plain": [
       "VBox()"
      ]
     },
     "metadata": {},
     "output_type": "display_data"
    },
    {
     "data": {
      "application/vnd.jupyter.widget-view+json": {
       "model_id": "",
       "version_major": 2,
       "version_minor": 0
      },
      "text/plain": [
       "FloatProgress(value=0.0, bar_style='info', description='Progress:', layout=Layout(height='25px', width='50%'),…"
      ]
     },
     "metadata": {},
     "output_type": "display_data"
    },
    {
     "name": "stdout",
     "output_type": "stream",
     "text": [
      "+---------------------------------------------------------------------------------------------------------------------------------------------------------------------------------------------------------------------------------------------------------------------------------------------------------------------------------------------------------------------------------------------------------------------------------------------------------------------------------------------------------------------------------------------------------------------------------------------------------------------------------------------------------------------------------------------------+\n",
      "|value                                                                                                                                                                                                                                                                                                                                                                                                                                                                                                                                                                                                                                                                                              |\n",
      "+---------------------------------------------------------------------------------------------------------------------------------------------------------------------------------------------------------------------------------------------------------------------------------------------------------------------------------------------------------------------------------------------------------------------------------------------------------------------------------------------------------------------------------------------------------------------------------------------------------------------------------------------------------------------------------------------------+\n",
      "|My daughter got her first copy from her great-grandmother (it had been my father's when he was a child). She loves it so much that she has worn out two copies now. Colorful pictures, easy to follow words, and wonderful morals (sharing, thinking problems through, and that the easy way isn't always the best way).                                                                                                                                                                                                                                                                                                                                                                           |\n",
      "|It is a very cute book with great illustrations,with an enjoyable story for children.                                                                                                                                                                                                                                                                                                                                                                                                                                                                                                                                                                                                              |\n",
      "|good comdition                                                                                                                                                                                                                                                                                                                                                                                                                                                                                                                                                                                                                                                                                     |\n",
      "|My students (3 & 4 year olds) loved this book!  Definitely recommend it to other teachers.                                                                                                                                                                                                                                                                                                                                                                                                                                                                                                                                                                                                         |\n",
      "|I'm using this book in a course on sustainability at the college level. In many ways it is better than the Lorax:  more fund and less didactic.                                                                                                                                                                                                                                                                                                                                                                                                                                                                                                                                                    |\n",
      "|We had this when I was growing up.  Great book about sharing.  I loved it then and I love it now.                                                                                                                                                                                                                                                                                                                                                                                                                                                                                                                                                                                                  |\n",
      "|Thanks to Amazon's used seller network, I was able to get a copy of this, a childhood favourite. It's a hit with my 3 and 5 year old boys and in regluar rotation at bedtime. Lots to discuss, from \"it was a good idea at the time\" to table manners. :)                                                                                                                                                                                                                                                                                                                                                                                                                                          |\n",
      "|My husband wanted this book to read to our 4 year old daughter ( who loves it).  He would read this to his oldest daughter who is 21 and she use to love it too.  Timeless book!!                                                                                                                                                                                                                                                                                                                                                                                                                                                                                                                  |\n",
      "|I am 45; I grew up with this book as our family poetry book-I am no poet but gained magic from having this book on the upstairs shelves to read when I wanted to--my folks didn't push it. I know there are many others but this one let poetry into the life of a hard core boy. I would like to get it for my son.                                                                                                                                                                                                                                                                                                                                                                               |\n",
      "|I have always liked this book. When my children were young, I read to them and wanted another copy to share with students.                                                                                                                                                                                                                                                                                                                                                                                                                                                                                                                                                                         |\n",
      "|Book from my childhood I had lost.  Love it and will enjoy having it for my grandchildren.                                                                                                                                                                                                                                                                                                                                                                                                                                                                                                                                                                                                         |\n",
      "|Love, love this book! I am so grateful for it, we've spent many moments bonding while reading these poems, I think this version might be better than the newer one.                                                                                                                                                                                                                                                                                                                                                                                                                                                                                                                                |\n",
      "|I rated this a five because it's the first book I used to introduce my-now 45 year old-son to poetry.  Custard the Magic Dragon was read over and over and he still remembers it to this day.  It's a charming mix of poetry, rhymes and stories in verse.  You'll treasure it for your children-and for yourself. If you can find a copy, get one and enjoy all it has to offer with your kids or by yourself.                                                                                                                                                                                                                                                                                    |\n",
      "|A must for every home, with or without children. Delightful! Each and every poem is a classic treasure. Wonderful to read out loud.                                                                                                                                                                                                                                                                                                                                                                                                                                                                                                                                                                |\n",
      "|One of my daughters, growing up, also loved this book, which I had had when I was a teenager.  Because she was a bit careless, the cover was destroyed.  It is so great to have a good copy again of this lovely collection which I can now read to my grandchildren.  The Anglund illustrations are, of course, delightful, and many of the selections simply cannot be found anymore, of either the poems or the illustrations.  A priceless book.                                                                                                                                                                                                                                               |\n",
      "|This is a favorite childhood book of mine.  I hunted it down after getting married in hopes of reading it to my children someday.  It's filled with wonderful classic poems.\\n\\nIt has some funny, witty poems but it doesn't have many of the \"silly\" slapstick style poems that are so common in kids poetry to day.  While some may see that as a liability, I think it's a great thing to expose kiddos to good literature from a young age.  If all kids digest is junk food, they will get fat.  If all they read is silly, slapstick poetry they will have a harder time appreciating classic stuff later on.                                                                               |\n",
      "|This book was given to my mom when she was 13 from her sister. She used to draw from the illustrations inside. When I was about 10, she let me start drawing from it. I absolutely love it! I have used it over the years to draw from, and now I teach art, and my students draw from these beautiful pen and ink illustrations. The book is lovely and full of wonderful poems and collections. And although the poetry is wonderful, I have to say the illustrations are my favorite ever. This is a classic you don't want to pass up!                                                                                                                                                         |\n",
      "|I love this little book which is wonderful to give as a gift to both adults and children. I already have my own copy but I wanted another to give one as a gift because it expresses in just a few, simple, touching words the way in which we would all like to be cherished,but probably never have been. It always makes me cry. I call it the agnostic's bible!\\n\\nClare.                                                                                                                                                                                                                                                                                                                      |\n",
      "|A sweet little book I got my mom for valentines day. She used to read it to me. Got the book fast and exactly as described. Perfect. Thank you.                                                                                                                                                                                                                                                                                                                                                                                                                                                                                                                                                    |\n",
      "|This book is so simple and beautiful and sweet, it's a must have for any child.  I was given it at four years old and it still has great meaning for me.  It's a keeper.                                                                                                                                                                                                                                                                                                                                                                                                                                                                                                                           |\n",
      "|i think that i've read this book more than a thousand times! and i'm sure that if i had to read it another time,i'll do it again!\\nat the end we discover that we're still looking to things of life just like the way we used to once we were children!\\nwaw! just read it,you won't regret it!\\ni will be so pleased to share my thoughts with someone who read it...and i will be more than pleased if i knew that i could have another from this author!                                                                                                                                                                                                                                       |\n",
      "|Lovely book and in excellent condition.                                                                                                                                                                                                                                                                                                                                                                                                                                                                                                                                                                                                                                                            |\n",
      "|Completly boring!!! Yes it's a childerns book that they will be able to read beacuse 60% of the book is the word Up.\\nThis one never gets picked for story time just sits on the shelf.\\nWe love Dr Seuss books but this one is disappointing.                                                                                                                                                                                                                                                                                                                                                                                                                                                     |\n",
      "|Good book and has my 1year old loves it since her favorite word is up.                                                                                                                                                                                                                                                                                                                                                                                                                                                                                                                                                                                                                             |\n",
      "|In this early reader, Dr. Seuss explores the concept of up.  What kinds of things can go up?  What does up look like?  In Seuss typical rhyming fashion we learn.\\n\\nThe illustrations are done by Quentin Blake so are not typical of Dr. Seuss.  They are interesting, colorful and fun.  The story is simple and repetitious making it easy for young readers to learn how to read new words.  Alongside the every day words, there are a few new things children might not know such as stilts and buttercups.  This is a fun early reader that makes learning to read easy due to repetition and rhyming.  It is written on the end of first grade reading level.  Recommended for grades k-2.|\n",
      "+---------------------------------------------------------------------------------------------------------------------------------------------------------------------------------------------------------------------------------------------------------------------------------------------------------------------------------------------------------------------------------------------------------------------------------------------------------------------------------------------------------------------------------------------------------------------------------------------------------------------------------------------------------------------------------------------------+\n",
      "only showing top 25 rows"
     ]
    }
   ],
   "source": [
    "# DO NOT DELETE THIS CELL\n",
    "# YOUR CODE HERE\n",
    "from pyspark.sql.functions import col\n",
    "\n",
    "# Assuming your DataFrame is already loaded and is named 'df'\n",
    "# Rename 'reviewText' column to 'value'\n",
    "df = df.withColumnRenamed(\"reviewText\", \"value\")\n",
    "\n",
    "# Show the first 25 rows of the DataFrame with 'value' column, without truncating text\n",
    "df.select(\"value\").show(25, truncate=False)"
   ]
  },
  {
   "cell_type": "markdown",
   "metadata": {},
   "source": [
    "### 5. Clean the data - 2 point\n",
    "\n",
    "Your task: Remove all punctuations and convert all characters to lower case.\n",
    "\n",
    "Expected output: The first 25 rows of a dataframe, with a column containing the cleaned sentences. "
   ]
  },
  {
   "cell_type": "code",
   "execution_count": 8,
   "metadata": {
    "execution": {
     "iopub.execute_input": "2025-03-12T05:32:50.760850Z",
     "iopub.status.busy": "2025-03-12T05:32:50.760671Z",
     "iopub.status.idle": "2025-03-12T05:32:50.811360Z",
     "shell.execute_reply": "2025-03-12T05:32:50.810628Z",
     "shell.execute_reply.started": "2025-03-12T05:32:50.760827Z"
    }
   },
   "outputs": [
    {
     "data": {
      "application/vnd.jupyter.widget-view+json": {
       "model_id": "65ce22a20a82400e965fd1fe4084105b",
       "version_major": 2,
       "version_minor": 0
      },
      "text/plain": [
       "VBox()"
      ]
     },
     "metadata": {},
     "output_type": "display_data"
    },
    {
     "data": {
      "application/vnd.jupyter.widget-view+json": {
       "model_id": "",
       "version_major": 2,
       "version_minor": 0
      },
      "text/plain": [
       "FloatProgress(value=0.0, bar_style='info', description='Progress:', layout=Layout(height='25px', width='50%'),…"
      ]
     },
     "metadata": {},
     "output_type": "display_data"
    }
   ],
   "source": [
    "# Do not change this cell. \n",
    "\n",
    "# NOTE: Counterintuitively, column objects do NOT store any data; instead they store column expressions (transformations). \n",
    "#       The below function takes in a column object, and adds more expressions to it to make a more complex transformation. \n",
    "#       Once we have a column object representing the expressions we want, use DataFrame.select(column) to apply the expressions\n",
    "\n",
    "from pyspark.sql.functions import regexp_replace, trim, col, lower\n",
    "def removePunctuation(column):\n",
    "    \"\"\"Removes punctuation, changes to lower case, and strips leading and trailing spaces.\"\"\"\n",
    "    return trim(lower(regexp_replace(column, \"[^A-Za-z0-9 ]\", \"\"))).alias(\"sentence\")"
   ]
  },
  {
   "cell_type": "code",
   "execution_count": 9,
   "metadata": {
    "execution": {
     "iopub.execute_input": "2025-03-12T05:32:50.813209Z",
     "iopub.status.busy": "2025-03-12T05:32:50.812966Z",
     "iopub.status.idle": "2025-03-12T05:32:51.071081Z",
     "shell.execute_reply": "2025-03-12T05:32:51.070319Z",
     "shell.execute_reply.started": "2025-03-12T05:32:50.813173Z"
    }
   },
   "outputs": [
    {
     "data": {
      "application/vnd.jupyter.widget-view+json": {
       "model_id": "c7b48030ea304ce3a21e921a8a43c7b3",
       "version_major": 2,
       "version_minor": 0
      },
      "text/plain": [
       "VBox()"
      ]
     },
     "metadata": {},
     "output_type": "display_data"
    },
    {
     "data": {
      "application/vnd.jupyter.widget-view+json": {
       "model_id": "",
       "version_major": 2,
       "version_minor": 0
      },
      "text/plain": [
       "FloatProgress(value=0.0, bar_style='info', description='Progress:', layout=Layout(height='25px', width='50%'),…"
      ]
     },
     "metadata": {},
     "output_type": "display_data"
    },
    {
     "name": "stdout",
     "output_type": "stream",
     "text": [
      "Column<'trim(lower(regexp_replace(value, [^A-Za-z0-9 ], , 1))) AS sentence'>"
     ]
    }
   ],
   "source": [
    "# Recommended: take a look at the contents of a column object returned from removePunctuations. What's in there? \n",
    "# No answers or outputs required for this cell. \n",
    "print(removePunctuation(df.value))"
   ]
  },
  {
   "cell_type": "markdown",
   "metadata": {},
   "source": [
    "#### **Expected output** - The first 25 rows of the cleaned dataframe, with a column containing the **entire** cleaned sentences, under a column named `sentence`"
   ]
  },
  {
   "cell_type": "code",
   "execution_count": 10,
   "metadata": {
    "execution": {
     "iopub.execute_input": "2025-03-12T05:32:51.072132Z",
     "iopub.status.busy": "2025-03-12T05:32:51.071965Z",
     "iopub.status.idle": "2025-03-12T05:32:51.838344Z",
     "shell.execute_reply": "2025-03-12T05:32:51.837712Z",
     "shell.execute_reply.started": "2025-03-12T05:32:51.072109Z"
    }
   },
   "outputs": [
    {
     "data": {
      "application/vnd.jupyter.widget-view+json": {
       "model_id": "d943ff767dd944b4901983cd71b4774c",
       "version_major": 2,
       "version_minor": 0
      },
      "text/plain": [
       "VBox()"
      ]
     },
     "metadata": {},
     "output_type": "display_data"
    },
    {
     "data": {
      "application/vnd.jupyter.widget-view+json": {
       "model_id": "",
       "version_major": 2,
       "version_minor": 0
      },
      "text/plain": [
       "FloatProgress(value=0.0, bar_style='info', description='Progress:', layout=Layout(height='25px', width='50%'),…"
      ]
     },
     "metadata": {},
     "output_type": "display_data"
    },
    {
     "name": "stdout",
     "output_type": "stream",
     "text": [
      "+------------------------------------------------------------------------------------------------------------------------------------------------------------------------------------------------------------------------------------------------------------------------------------------------------------------------------------------------------------------------------------------------------------------------------------------------------------------------------------------------------------------------------------------------------------------------------------------------------------------------------------------------------------------------------+\n",
      "|sentence                                                                                                                                                                                                                                                                                                                                                                                                                                                                                                                                                                                                                                                                      |\n",
      "+------------------------------------------------------------------------------------------------------------------------------------------------------------------------------------------------------------------------------------------------------------------------------------------------------------------------------------------------------------------------------------------------------------------------------------------------------------------------------------------------------------------------------------------------------------------------------------------------------------------------------------------------------------------------------+\n",
      "|my daughter got her first copy from her greatgrandmother it had been my fathers when he was a child she loves it so much that she has worn out two copies now colorful pictures easy to follow words and wonderful morals sharing thinking problems through and that the easy way isnt always the best way                                                                                                                                                                                                                                                                                                                                                                    |\n",
      "|it is a very cute book with great illustrationswith an enjoyable story for children                                                                                                                                                                                                                                                                                                                                                                                                                                                                                                                                                                                           |\n",
      "|good comdition                                                                                                                                                                                                                                                                                                                                                                                                                                                                                                                                                                                                                                                                |\n",
      "|my students 3  4 year olds loved this book  definitely recommend it to other teachers                                                                                                                                                                                                                                                                                                                                                                                                                                                                                                                                                                                         |\n",
      "|im using this book in a course on sustainability at the college level in many ways it is better than the lorax  more fund and less didactic                                                                                                                                                                                                                                                                                                                                                                                                                                                                                                                                   |\n",
      "|we had this when i was growing up  great book about sharing  i loved it then and i love it now                                                                                                                                                                                                                                                                                                                                                                                                                                                                                                                                                                                |\n",
      "|thanks to amazons used seller network i was able to get a copy of this a childhood favourite its a hit with my 3 and 5 year old boys and in regluar rotation at bedtime lots to discuss from it was a good idea at the time to table manners                                                                                                                                                                                                                                                                                                                                                                                                                                  |\n",
      "|my husband wanted this book to read to our 4 year old daughter  who loves it  he would read this to his oldest daughter who is 21 and she use to love it too  timeless book                                                                                                                                                                                                                                                                                                                                                                                                                                                                                                   |\n",
      "|i am 45 i grew up with this book as our family poetry booki am no poet but gained magic from having this book on the upstairs shelves to read when i wanted tomy folks didnt push it i know there are many others but this one let poetry into the life of a hard core boy i would like to get it for my son                                                                                                                                                                                                                                                                                                                                                                  |\n",
      "|i have always liked this book when my children were young i read to them and wanted another copy to share with students                                                                                                                                                                                                                                                                                                                                                                                                                                                                                                                                                       |\n",
      "|book from my childhood i had lost  love it and will enjoy having it for my grandchildren                                                                                                                                                                                                                                                                                                                                                                                                                                                                                                                                                                                      |\n",
      "|love love this book i am so grateful for it weve spent many moments bonding while reading these poems i think this version might be better than the newer one                                                                                                                                                                                                                                                                                                                                                                                                                                                                                                                 |\n",
      "|i rated this a five because its the first book i used to introduce mynow 45 year oldson to poetry  custard the magic dragon was read over and over and he still remembers it to this day  its a charming mix of poetry rhymes and stories in verse  youll treasure it for your childrenand for yourself if you can find a copy get one and enjoy all it has to offer with your kids or by yourself                                                                                                                                                                                                                                                                            |\n",
      "|a must for every home with or without children delightful each and every poem is a classic treasure wonderful to read out loud                                                                                                                                                                                                                                                                                                                                                                                                                                                                                                                                                |\n",
      "|one of my daughters growing up also loved this book which i had had when i was a teenager  because she was a bit careless the cover was destroyed  it is so great to have a good copy again of this lovely collection which i can now read to my grandchildren  the anglund illustrations are of course delightful and many of the selections simply cannot be found anymore of either the poems or the illustrations  a priceless book                                                                                                                                                                                                                                       |\n",
      "|this is a favorite childhood book of mine  i hunted it down after getting married in hopes of reading it to my children someday  its filled with wonderful classic poemsit has some funny witty poems but it doesnt have many of the silly slapstick style poems that are so common in kids poetry to day  while some may see that as a liability i think its a great thing to expose kiddos to good literature from a young age  if all kids digest is junk food they will get fat  if all they read is silly slapstick poetry they will have a harder time appreciating classic stuff later on                                                                              |\n",
      "|this book was given to my mom when she was 13 from her sister she used to draw from the illustrations inside when i was about 10 she let me start drawing from it i absolutely love it i have used it over the years to draw from and now i teach art and my students draw from these beautiful pen and ink illustrations the book is lovely and full of wonderful poems and collections and although the poetry is wonderful i have to say the illustrations are my favorite ever this is a classic you dont want to pass up                                                                                                                                                 |\n",
      "|i love this little book which is wonderful to give as a gift to both adults and children i already have my own copy but i wanted another to give one as a gift because it expresses in just a few simple touching words the way in which we would all like to be cherishedbut probably never have been it always makes me cry i call it the agnostics bibleclare                                                                                                                                                                                                                                                                                                              |\n",
      "|a sweet little book i got my mom for valentines day she used to read it to me got the book fast and exactly as described perfect thank you                                                                                                                                                                                                                                                                                                                                                                                                                                                                                                                                    |\n",
      "|this book is so simple and beautiful and sweet its a must have for any child  i was given it at four years old and it still has great meaning for me  its a keeper                                                                                                                                                                                                                                                                                                                                                                                                                                                                                                            |\n",
      "|i think that ive read this book more than a thousand times and im sure that if i had to read it another timeill do it againat the end we discover that were still looking to things of life just like the way we used to once we were childrenwaw just read ityou wont regret iti will be so pleased to share my thoughts with someone who read itand i will be more than pleased if i knew that i could have another from this author                                                                                                                                                                                                                                        |\n",
      "|lovely book and in excellent condition                                                                                                                                                                                                                                                                                                                                                                                                                                                                                                                                                                                                                                        |\n",
      "|completly boring yes its a childerns book that they will be able to read beacuse 60 of the book is the word upthis one never gets picked for story time just sits on the shelfwe love dr seuss books but this one is disappointing                                                                                                                                                                                                                                                                                                                                                                                                                                            |\n",
      "|good book and has my 1year old loves it since her favorite word is up                                                                                                                                                                                                                                                                                                                                                                                                                                                                                                                                                                                                         |\n",
      "|in this early reader dr seuss explores the concept of up  what kinds of things can go up  what does up look like  in seuss typical rhyming fashion we learnthe illustrations are done by quentin blake so are not typical of dr seuss  they are interesting colorful and fun  the story is simple and repetitious making it easy for young readers to learn how to read new words  alongside the every day words there are a few new things children might not know such as stilts and buttercups  this is a fun early reader that makes learning to read easy due to repetition and rhyming  it is written on the end of first grade reading level  recommended for grades k2|\n",
      "+------------------------------------------------------------------------------------------------------------------------------------------------------------------------------------------------------------------------------------------------------------------------------------------------------------------------------------------------------------------------------------------------------------------------------------------------------------------------------------------------------------------------------------------------------------------------------------------------------------------------------------------------------------------------------+\n",
      "only showing top 25 rows"
     ]
    }
   ],
   "source": [
    "# DO NOT DELETE THIS CELL\n",
    "# execute the column expressions generated by removePunctuation() to clean the sentences\n",
    "# After that, use the show() function to print the first 25 rows of the dataframe\n",
    "# Hint: you'll need the Column object returned by removePunctuations(). \n",
    "\n",
    "# YOUR CODE HERE\n",
    "from pyspark.sql.functions import col\n",
    "\n",
    "# Applying the removePunctuation function to the 'value' column\n",
    "cleaned_df = df.withColumn(\"sentence\", removePunctuation(col(\"value\")))\n",
    "\n",
    "# Showing the first 25 rows of the cleaned DataFrame without truncating text\n",
    "cleaned_df.select(\"sentence\").show(25, truncate=False)"
   ]
  },
  {
   "cell_type": "markdown",
   "metadata": {},
   "source": [
    "### 6. Get dataframe containing unique words that contain the letter 'z' (lowercase) and their counts - 3 points\n",
    "\n",
    "#### 6.1 Create a dataframe of words - 1 point\n",
    "\n",
    "#### Tasks:\n",
    "1. Split each sentence into words based on the delimiter space (' ').\n",
    "2. Put each word in each sentence row into their own rows. Put your results into a new dataframe.\n",
    "3. Print out the first 5 rows of the dataframe.\n",
    "\n",
    "#### Expected output: \n",
    "1. Show first 5 rows of the output dataframe which would be:\n",
    "\n",
    "| word   |\n",
    "---------\n",
    "|my      |\n",
    "|daughter|\n",
    "|got     |\n",
    "|her     |\n",
    "|first   |\n",
    "    \n",
    "only showing top 5 rows"
   ]
  },
  {
   "cell_type": "markdown",
   "metadata": {},
   "source": [
    "#### **Expected output** - First 5 rows of the word dataframe, under a column named `word`."
   ]
  },
  {
   "cell_type": "code",
   "execution_count": 11,
   "metadata": {
    "execution": {
     "iopub.execute_input": "2025-03-12T05:32:51.839371Z",
     "iopub.status.busy": "2025-03-12T05:32:51.839200Z",
     "iopub.status.idle": "2025-03-12T05:32:52.610080Z",
     "shell.execute_reply": "2025-03-12T05:32:52.609345Z",
     "shell.execute_reply.started": "2025-03-12T05:32:51.839347Z"
    }
   },
   "outputs": [
    {
     "data": {
      "application/vnd.jupyter.widget-view+json": {
       "model_id": "40f4e22ffa634945aadeb17556bb7764",
       "version_major": 2,
       "version_minor": 0
      },
      "text/plain": [
       "VBox()"
      ]
     },
     "metadata": {},
     "output_type": "display_data"
    },
    {
     "data": {
      "application/vnd.jupyter.widget-view+json": {
       "model_id": "",
       "version_major": 2,
       "version_minor": 0
      },
      "text/plain": [
       "FloatProgress(value=0.0, bar_style='info', description='Progress:', layout=Layout(height='25px', width='50%'),…"
      ]
     },
     "metadata": {},
     "output_type": "display_data"
    },
    {
     "name": "stdout",
     "output_type": "stream",
     "text": [
      "+--------+\n",
      "|    word|\n",
      "+--------+\n",
      "|      my|\n",
      "|daughter|\n",
      "|     got|\n",
      "|     her|\n",
      "|   first|\n",
      "+--------+\n",
      "only showing top 5 rows"
     ]
    }
   ],
   "source": [
    "# DO NOT DELETE THIS CELL\n",
    "# Assemble the 'split' and 'explode' column expressions, then apply them to the sentence column\n",
    "\n",
    "from pyspark.sql.functions import split, explode\n",
    "\n",
    "# YOUR CODE HERE\n",
    "\n",
    "# Split each sentence into an array of words\n",
    "words_df = cleaned_df.withColumn(\"words\", split(col(\"sentence\"), \" \"))\n",
    "\n",
    "# Explode the words array into separate rows\n",
    "exploded_df = words_df.withColumn(\"word\", explode(col(\"words\")))\n",
    "\n",
    "# Select only the 'word' column and remove any rows where the word is empty\n",
    "final_df = exploded_df.select(\"word\").filter(col(\"word\") != \"\")\n",
    "\n",
    "# Show the first 5 rows of the DataFrame\n",
    "final_df.show(5)\n",
    "\n"
   ]
  },
  {
   "cell_type": "markdown",
   "metadata": {},
   "source": [
    "#### 6.2 Filter words that contain the letter 'z' and count them - 2 points\n",
    "\n",
    "#### Tasks:\n",
    "\n",
    "1. Remove all empty rows in the dataframe. These might have crept in because of the empty lines or words in the file.\n",
    "2. Filter the dataframe to contain only words that have the letter 'z' in them.\n",
    "2. Group rows in the previous dataframe by unique words, then count the rows in each group. Put your results into a new dataframe.\n",
    "\n",
    "#### Expected output:\n",
    "1. Show the first 25 rows of the dataframe, where each row contains only one word. The dataframe must not contain empty rows. \n",
    "2. Show 25 rows of the dataframe containing unique words and their counts\n",
    "\n",
    "##### The output after removing empty rows and filtering the dataframe would be similar to:\n",
    "\n",
    "\n",
    "|          word|\n",
    "----------------\n",
    "|       jazz|\n",
    "|         jazz|\n",
    "|      jazz|\n",
    "... 22 more\n",
    "\n",
    "##### The output after grouping unique words and counting the rows in each group would be similar to:\n",
    "\n",
    "\n",
    "|         word|count|\n",
    "--------------|------\n",
    "|arizona|1 |\n",
    "|huzzah         |18 |\n",
    "|zoo      |15   |\n",
    "... 22 more\n",
    "\n",
    "\n",
    "**NOTE** - The above tables are for illustration only. Your output may differ and should contain all 25 rows for each of the tasks\n"
   ]
  },
  {
   "cell_type": "markdown",
   "metadata": {},
   "source": [
    "#### **Expected output** - First 25 rows of the dataframe containing words with the letter 'z' in them, under a column named `word`."
   ]
  },
  {
   "cell_type": "code",
   "execution_count": 12,
   "metadata": {
    "execution": {
     "iopub.execute_input": "2025-03-12T05:32:52.611531Z",
     "iopub.status.busy": "2025-03-12T05:32:52.611283Z",
     "iopub.status.idle": "2025-03-12T05:32:53.388698Z",
     "shell.execute_reply": "2025-03-12T05:32:53.387205Z",
     "shell.execute_reply.started": "2025-03-12T05:32:52.611494Z"
    }
   },
   "outputs": [
    {
     "data": {
      "application/vnd.jupyter.widget-view+json": {
       "model_id": "80242e7e9a964a92a2cb10ef2f55973c",
       "version_major": 2,
       "version_minor": 0
      },
      "text/plain": [
       "VBox()"
      ]
     },
     "metadata": {},
     "output_type": "display_data"
    },
    {
     "data": {
      "application/vnd.jupyter.widget-view+json": {
       "model_id": "",
       "version_major": 2,
       "version_minor": 0
      },
      "text/plain": [
       "FloatProgress(value=0.0, bar_style='info', description='Progress:', layout=Layout(height='25px', width='50%'),…"
      ]
     },
     "metadata": {},
     "output_type": "display_data"
    },
    {
     "name": "stdout",
     "output_type": "stream",
     "text": [
      "+---------------------------------------------------------+\n",
      "|word                                                     |\n",
      "+---------------------------------------------------------+\n",
      "|amazons                                                  |\n",
      "|globalized                                               |\n",
      "|bazaar                                                   |\n",
      "|frozen                                                   |\n",
      "|recognize                                                |\n",
      "|httpsimagesnasslimagesamazoncomimagesi51spdzt7umlss300jpg|\n",
      "|alzheimers                                               |\n",
      "|characterization                                         |\n",
      "|amazed                                                   |\n",
      "|characterizations                                        |\n",
      "|arizona                                                  |\n",
      "|arizona                                                  |\n",
      "|size                                                     |\n",
      "|arizona                                                  |\n",
      "|rez                                                      |\n",
      "|byzantine                                                |\n",
      "|characterization                                         |\n",
      "|rez                                                      |\n",
      "|publicized                                               |\n",
      "|organizations                                            |\n",
      "|horizon                                                  |\n",
      "|comewatziznaymgmailcom                                   |\n",
      "|arizona                                                  |\n",
      "|organized                                                |\n",
      "|amazon                                                   |\n",
      "+---------------------------------------------------------+\n",
      "only showing top 25 rows"
     ]
    }
   ],
   "source": [
    "# DO NOT DELETE THIS CELL\n",
    "# YOUR CODE HERE\n",
    "from pyspark.sql.functions import length, col\n",
    "\n",
    "# Filter for words containing the letter 'z'\n",
    "words_with_z = final_df.filter(col(\"word\").contains('z'))\n",
    "\n",
    "# Show the first 25 rows of the DataFrame with words containing 'z'\n",
    "words_with_z.show(25, truncate=False)\n",
    "\n",
    "\n"
   ]
  },
  {
   "cell_type": "markdown",
   "metadata": {},
   "source": [
    "#### **Expected output** - First 25 rows of the dataframe containing words with the letter 'z' in them and their counts, under `word` and `count` columns respectively"
   ]
  },
  {
   "cell_type": "code",
   "execution_count": 13,
   "metadata": {
    "execution": {
     "iopub.execute_input": "2025-03-12T05:32:53.390352Z",
     "iopub.status.busy": "2025-03-12T05:32:53.389747Z",
     "iopub.status.idle": "2025-03-12T05:35:03.245807Z",
     "shell.execute_reply": "2025-03-12T05:35:03.244920Z",
     "shell.execute_reply.started": "2025-03-12T05:32:53.390310Z"
    }
   },
   "outputs": [
    {
     "data": {
      "application/vnd.jupyter.widget-view+json": {
       "model_id": "577afeceb1614037bd8fa40403452188",
       "version_major": 2,
       "version_minor": 0
      },
      "text/plain": [
       "VBox()"
      ]
     },
     "metadata": {},
     "output_type": "display_data"
    },
    {
     "data": {
      "application/vnd.jupyter.widget-view+json": {
       "model_id": "",
       "version_major": 2,
       "version_minor": 0
      },
      "text/plain": [
       "FloatProgress(value=0.0, bar_style='info', description='Progress:', layout=Layout(height='25px', width='50%'),…"
      ]
     },
     "metadata": {},
     "output_type": "display_data"
    },
    {
     "name": "stdout",
     "output_type": "stream",
     "text": [
      "+-----------------------------------------------------------------------------+-----+\n",
      "|word                                                                         |count|\n",
      "+-----------------------------------------------------------------------------+-----+\n",
      "|bazaar                                                                       |256  |\n",
      "|digitized                                                                    |127  |\n",
      "|glamourizing                                                                 |9    |\n",
      "|scheherzade                                                                  |1    |\n",
      "|enzoenzo                                                                     |1    |\n",
      "|lizardsthe                                                                   |3    |\n",
      "|agonizingly                                                                  |249  |\n",
      "|breezy                                                                       |1912 |\n",
      "|fizzlei                                                                      |3    |\n",
      "|zealotsscientific                                                            |1    |\n",
      "|zeroso                                                                       |5    |\n",
      "|pizzai                                                                       |4    |\n",
      "|timefitz                                                                     |1    |\n",
      "|verbalizing                                                                  |39   |\n",
      "|extravaganza                                                                 |151  |\n",
      "|anecdotesstiglitz                                                            |1    |\n",
      "|mizzou                                                                       |10   |\n",
      "|thomaskoontz                                                                 |1    |\n",
      "|amayzing                                                                     |3    |\n",
      "|equalizes                                                                    |7    |\n",
      "|humanize                                                                     |483  |\n",
      "|234235liza                                                                   |1    |\n",
      "|editionsamazingly                                                            |2    |\n",
      "|atomizer                                                                     |1    |\n",
      "|hrefperdidostreetstationnewcrobuzondpb000fbfo8crefcmcrarpdrvwtxtieutf8perdido|1    |\n",
      "+-----------------------------------------------------------------------------+-----+\n",
      "only showing top 25 rows"
     ]
    }
   ],
   "source": [
    "# DO NOT DELETE THIS CELL\n",
    "# YOUR CODE HERE\n",
    "# Group by 'word' and count each occurrence\n",
    "word_counts = words_with_z.groupBy(\"word\").count()\n",
    "# Show the first 25 rows of the DataFrame with counts of unique words\n",
    "word_counts.show(25, truncate=False)\n"
   ]
  },
  {
   "cell_type": "markdown",
   "metadata": {},
   "source": [
    "### 7. Sort the word count dataframe in a descending order by count - 2 point\n",
    "\n",
    "Your task: Sort the previous dataframe by the counts column in a descending order. Put your results into a new dataframe. \n",
    "\n",
    "Expected output: First 25 rows of the sorted word count dataframe. The first row would have the maximum count."
   ]
  },
  {
   "cell_type": "markdown",
   "metadata": {},
   "source": [
    "#### **Expected output** - First 25 rows of the sorted word count dataframe"
   ]
  },
  {
   "cell_type": "code",
   "execution_count": 14,
   "metadata": {
    "execution": {
     "iopub.execute_input": "2025-03-12T05:35:03.247387Z",
     "iopub.status.busy": "2025-03-12T05:35:03.247131Z",
     "iopub.status.idle": "2025-03-12T05:37:10.947981Z",
     "shell.execute_reply": "2025-03-12T05:37:10.947185Z",
     "shell.execute_reply.started": "2025-03-12T05:35:03.247351Z"
    }
   },
   "outputs": [
    {
     "data": {
      "application/vnd.jupyter.widget-view+json": {
       "model_id": "6618b4a83d4445b581b986bb1f062e7f",
       "version_major": 2,
       "version_minor": 0
      },
      "text/plain": [
       "VBox()"
      ]
     },
     "metadata": {},
     "output_type": "display_data"
    },
    {
     "data": {
      "application/vnd.jupyter.widget-view+json": {
       "model_id": "",
       "version_major": 2,
       "version_minor": 0
      },
      "text/plain": [
       "FloatProgress(value=0.0, bar_style='info', description='Progress:', layout=Layout(height='25px', width='50%'),…"
      ]
     },
     "metadata": {},
     "output_type": "display_data"
    },
    {
     "name": "stdout",
     "output_type": "stream",
     "text": [
      "+----------------+------+\n",
      "|word            |count |\n",
      "+----------------+------+\n",
      "|amazing         |142528|\n",
      "|amazon          |45475 |\n",
      "|realize         |44217 |\n",
      "|crazy           |29403 |\n",
      "|realized        |25424 |\n",
      "|size            |20188 |\n",
      "|elizabeth       |17398 |\n",
      "|organized       |13695 |\n",
      "|recognize       |12812 |\n",
      "|organization    |12307 |\n",
      "|realizes        |11807 |\n",
      "|amazed          |11584 |\n",
      "|nazi            |10863 |\n",
      "|koontz          |10793 |\n",
      "|characterization|9894  |\n",
      "|citizens        |9392  |\n",
      "|magazine        |8937  |\n",
      "|bizarre         |8724  |\n",
      "|amazingly       |8311  |\n",
      "|prize           |8288  |\n",
      "|civilization    |7992  |\n",
      "|zombie          |7892  |\n",
      "|zero            |7850  |\n",
      "|dozen           |7470  |\n",
      "|cozy            |7207  |\n",
      "+----------------+------+\n",
      "only showing top 25 rows"
     ]
    }
   ],
   "source": [
    "# DO NOT DELETE THIS CELL\n",
    "# YOUR CODE HERE\n",
    "from pyspark.sql.functions import col\n",
    "\n",
    "# Sort the word counts DataFrame by the 'count' column in descending order\n",
    "sorted_word_counts = word_counts.orderBy(col(\"count\").desc())\n",
    "\n",
    "# Show the first 25 rows of the sorted DataFrame\n",
    "sorted_word_counts.show(25, truncate=False)\n"
   ]
  },
  {
   "cell_type": "markdown",
   "metadata": {},
   "source": [
    "### 8. Record the execution time\n",
    "\n",
    "Your task: Print the execution time.\n",
    "\n",
    "#### **Expected output** - The execution time. No particular value is expected."
   ]
  },
  {
   "cell_type": "code",
   "execution_count": 15,
   "metadata": {
    "execution": {
     "iopub.execute_input": "2025-03-12T05:37:10.949138Z",
     "iopub.status.busy": "2025-03-12T05:37:10.948973Z",
     "iopub.status.idle": "2025-03-12T05:37:10.995666Z",
     "shell.execute_reply": "2025-03-12T05:37:10.994927Z",
     "shell.execute_reply.started": "2025-03-12T05:37:10.949116Z"
    }
   },
   "outputs": [
    {
     "data": {
      "application/vnd.jupyter.widget-view+json": {
       "model_id": "a3d9c230a8274d519f749c78482e1d0e",
       "version_major": 2,
       "version_minor": 0
      },
      "text/plain": [
       "VBox()"
      ]
     },
     "metadata": {},
     "output_type": "display_data"
    },
    {
     "data": {
      "application/vnd.jupyter.widget-view+json": {
       "model_id": "",
       "version_major": 2,
       "version_minor": 0
      },
      "text/plain": [
       "FloatProgress(value=0.0, bar_style='info', description='Progress:', layout=Layout(height='25px', width='50%'),…"
      ]
     },
     "metadata": {},
     "output_type": "display_data"
    },
    {
     "name": "stdout",
     "output_type": "stream",
     "text": [
      "295.8728334903717"
     ]
    }
   ],
   "source": [
    "# Print the time since execution start - You will need this value later.\n",
    "print(time.time() - start_time)"
   ]
  },
  {
   "cell_type": "markdown",
   "metadata": {},
   "source": [
    "### 9. Save the sorted word counts directly to S3 as a CSV file - 1 point\n",
    "\n",
    "NOTE: Spark uses a distributed memory system, and stores working data in fragments known as \"partitions\". This is advantageous when a Spark cluster spans multiple machines, as each machine will only require part of the working data to do its own job. By default, Spark will save each of these data partitions into a individual file to avoid I/O collisions. We want only one output file, so we'll need to fuse all the data into a single partition first. \n",
    "\n",
    "Your task: \n",
    "1. Coalesce the previous dataframe to one partition. This makes sure that all our results will end up in the same CSV file. \n",
    "2. Save the 1-partition dataframe to S3 using the DataFrame.write.csv() method. Take note to store the file inside S3, at a place that you can remember. The save path should look something like `s3://<your-bucket>/<your-folder>/<your-result-file>.csv`. Change these parameters to point to your bucket and folder.\n",
    "3. Remember to save the csv file along with the header\n"
   ]
  },
  {
   "cell_type": "markdown",
   "metadata": {},
   "source": [
    "### Note:\n",
    "\n",
    "#### You only need to run the section 9 and section 10 once for the 4M dataset.\n",
    "#### Section 11 requires you to run multiple iterations of this Notebook, and for that you can comment out the code in section 9 so that it's easier for you to run."
   ]
  },
  {
   "cell_type": "code",
   "execution_count": 16,
   "metadata": {
    "execution": {
     "iopub.execute_input": "2025-03-12T05:37:10.996762Z",
     "iopub.status.busy": "2025-03-12T05:37:10.996598Z",
     "iopub.status.idle": "2025-03-12T05:39:16.666893Z",
     "shell.execute_reply": "2025-03-12T05:39:16.666188Z",
     "shell.execute_reply.started": "2025-03-12T05:37:10.996739Z"
    }
   },
   "outputs": [
    {
     "data": {
      "application/vnd.jupyter.widget-view+json": {
       "model_id": "e53fa3a6655d4ea794e2d04b266fc779",
       "version_major": 2,
       "version_minor": 0
      },
      "text/plain": [
       "VBox()"
      ]
     },
     "metadata": {},
     "output_type": "display_data"
    },
    {
     "data": {
      "application/vnd.jupyter.widget-view+json": {
       "model_id": "",
       "version_major": 2,
       "version_minor": 0
      },
      "text/plain": [
       "FloatProgress(value=0.0, bar_style='info', description='Progress:', layout=Layout(height='25px', width='50%'),…"
      ]
     },
     "metadata": {},
     "output_type": "display_data"
    }
   ],
   "source": [
    "# Save results to S3\n",
    "single_part_df = sorted_word_counts.coalesce(1)\n",
    "\n",
    "# Define the path to your S3 bucket and folder\n",
    "output_path = \"s3://mrunown/code/data/sorted_word_counts.csv\"\n",
    "\n",
    "# Save the DataFrame as a single CSV file, including the header\n",
    "single_part_df.write.csv(output_path, mode=\"overwrite\", header=True)"
   ]
  },
  {
   "cell_type": "code",
   "execution_count": 17,
   "metadata": {
    "execution": {
     "iopub.execute_input": "2025-03-12T05:39:16.668180Z",
     "iopub.status.busy": "2025-03-12T05:39:16.667930Z",
     "iopub.status.idle": "2025-03-12T05:39:17.426188Z",
     "shell.execute_reply": "2025-03-12T05:39:17.425551Z",
     "shell.execute_reply.started": "2025-03-12T05:39:16.668144Z"
    }
   },
   "outputs": [
    {
     "data": {
      "application/vnd.jupyter.widget-view+json": {
       "model_id": "e6c8554d42664195bfe4c7a74c75a041",
       "version_major": 2,
       "version_minor": 0
      },
      "text/plain": [
       "VBox()"
      ]
     },
     "metadata": {},
     "output_type": "display_data"
    },
    {
     "data": {
      "application/vnd.jupyter.widget-view+json": {
       "model_id": "",
       "version_major": 2,
       "version_minor": 0
      },
      "text/plain": [
       "FloatProgress(value=0.0, bar_style='info', description='Progress:', layout=Layout(height='25px', width='50%'),…"
      ]
     },
     "metadata": {},
     "output_type": "display_data"
    }
   ],
   "source": [
    "# Stop Spark session\n",
    "\n",
    "spark.stop()"
   ]
  },
  {
   "cell_type": "markdown",
   "metadata": {},
   "source": [
    "### 10. Submission of `50_rows.csv` - Download the CSV file from S3 to your local machine and create the expected CSV output file - 2 point\n",
    "\n",
    "1. Navigate to the S3 folder where you stored your output\n",
    "2. Note the name of this file, it should look something like `part-00000-xx.....xx.csv`. \n",
    "3. Click on this file, it should open the file properties.\n",
    "4. Click on 'Download'.\n",
    "5. After downloading the file, you can rename it to anthing, say `results.csv`. \n",
    "6. We want you to submit a CSV containing the first 50 rows of the results file. Remember that we want the first 51 lines which would include the header as well - so basically it is header + 50 rows.\n",
    "\n"
   ]
  },
  {
   "cell_type": "markdown",
   "metadata": {},
   "source": [
    "### 11. Submission of `exec_times.csv` - Execution times on different dataset and settings - 2 point\n",
    "\n",
    "You need to experiment with using different number of master and worker nodes for running this whole Jupyter Notebook. You will have to report the execution time of this Notebook as you noted in an earlier section.\n",
    "\n",
    "1. Create a cluster with the required number of master and worker(core) nodes.\n",
    "2. Then go to the Kernel tab in JupyterLab, and do 'Restart and run all cells.'\n",
    "3. You should note the time in the cell just before section 9 - this is the time that it took for all the code to run.\n",
    "4. Then, start a new cluster with a different configuration of master and worker nodes and dataset as expected. Run the Notebook again, and note the execution times.\n",
    "5. You must change the dataFileName to read the BookReviews_1M.txt from your S3 bucket. Also note that BookReviews_1M.txt and BookReviews_4M.json have different data formats and must be handled appropriately.\n",
    "6. Create a csv file `exec_times.csv` and fill it in the following format:"
   ]
  },
  {
   "cell_type": "markdown",
   "metadata": {},
   "source": [
    "| Dataset | #Master Nodes | #Core Nodes | Runtime_1 | Runtime_2 | Runtime_3 | Mean | Std |\n",
    "| :-: | :-: | :-: | :-: | :-: | :-: | :-: | :-: |\n",
    "| 1M | 1 | 1 | | | | | | \n",
    "| 4M | 1 | 1 | | | | | |\n",
    "| 4M | 1 | 3 | | | | | |"
   ]
  },
  {
   "cell_type": "markdown",
   "metadata": {},
   "source": [
    "### 12. Screenshots of terminated EMR clusters -`cluster_ss.png`\n",
    "\n",
    "You need to attach a screenshot of your Amazon EMR 'Clusters' page which shows your terminated clusters, cluster creation time, cluster elapsed time, and your username."
   ]
  },
  {
   "cell_type": "code",
   "execution_count": null,
   "metadata": {},
   "outputs": [],
   "source": []
  }
 ],
 "metadata": {
  "kernelspec": {
   "display_name": "PySpark",
   "language": "python",
   "name": "pysparkkernel"
  },
  "language_info": {
   "codemirror_mode": {
    "name": "python",
    "version": 3
   },
   "file_extension": ".py",
   "mimetype": "text/x-python",
   "name": "pyspark",
   "pygments_lexer": "python3"
  }
 },
 "nbformat": 4,
 "nbformat_minor": 4
}
